{
 "cells": [
  {
   "cell_type": "markdown",
   "metadata": {},
   "source": [
    "# Límite de Shockley–Queisser\n",
    "\n",
    "![](photovoltaic-effect.gif)\n",
    "\n",
    "## Bandas de conduccion y Bandgap\n",
    "\n",
    "![](band-gap.png)\n",
    "\n",
    "## Primero librerias"
   ]
  },
  {
   "cell_type": "code",
   "execution_count": 52,
   "metadata": {
    "collapsed": false
   },
   "outputs": [],
   "source": [
    "import numpy as np # modulo de computo numerico\n",
    "import matplotlib.pyplot as plt # modulo de graficas\n",
    "import pandas as pd # modulo de datos\n",
    "import seaborn as sns\n",
    "import scipy as sp\n",
    "import  scipy.interpolate, scipy.integrate # para interpolar e integrar\n",
    "import wget, tarfile # para bajar datos y descompirmir\n",
    "from __future__ import print_function\n",
    "\n",
    "# esta linea hace que las graficas salgan en el notebook\n",
    "%matplotlib inline"
   ]
  },
  {
   "cell_type": "markdown",
   "metadata": {},
   "source": [
    "## Graficas chidas!"
   ]
  },
  {
   "cell_type": "code",
   "execution_count": 5,
   "metadata": {
    "collapsed": true
   },
   "outputs": [],
   "source": [
    "def awesome_settings():\n",
    "    # awesome plot options\n",
    "    sns.set_style(\"white\")\n",
    "    sns.set_style(\"ticks\")\n",
    "    sns.set_context(\"paper\", font_scale=2)\n",
    "    sns.set_palette(sns.color_palette('bright'))\n",
    "    # image stuff\n",
    "    plt.rcParams['figure.figsize'] = (12.0, 6.0)\n",
    "    plt.rcParams['savefig.dpi'] = 60\n",
    "    plt.rcParams['lines.linewidth'] = 4\n",
    "    return\n",
    "\n",
    "%config InlineBackend.figure_format='retina'\n",
    "awesome_settings()"
   ]
  },
  {
   "cell_type": "markdown",
   "metadata": {
    "collapsed": false
   },
   "source": [
    "# 1  A graficar el Hermoso Espectro Solar\n",
    "\n",
    "\n",
    "\n",
    "## Primero constantes numericas\n",
    "\n",
    "Utilizaremos un modulo que manejara unidades numericas y fisicas:"
   ]
  },
  {
   "cell_type": "code",
   "execution_count": 6,
   "metadata": {
    "collapsed": false
   },
   "outputs": [],
   "source": [
    "import numericalunits as nu"
   ]
  },
  {
   "cell_type": "markdown",
   "metadata": {},
   "source": [
    "Para usarlo convertimos numeros a unidades, por ejemplo:\n",
    "\n",
    "`x = 5 * nu.cm` significa \"x es igual a 5 centimetros\".\n",
    "\n",
    "si quieres sacar el valor numerico de x, podemos dividir por las unidades\n",
    "\n",
    "`y = x / nu.mm `, en este caso tenemos el valor numerico en milimetros.\n",
    "\n",
    "### Pruebalo!"
   ]
  },
  {
   "cell_type": "code",
   "execution_count": null,
   "metadata": {
    "collapsed": false
   },
   "outputs": [],
   "source": []
  },
  {
   "cell_type": "markdown",
   "metadata": {},
   "source": [
    "Definimos la Celda solar cualquiera a una temperatura de 300 kelvin:"
   ]
  },
  {
   "cell_type": "code",
   "execution_count": 7,
   "metadata": {
    "collapsed": true
   },
   "outputs": [],
   "source": [
    "Tcell = 300 * nu.K"
   ]
  },
  {
   "cell_type": "markdown",
   "metadata": {},
   "source": [
    "## Bajar datos\n",
    "\n",
    "Aveces los datos que queremos se encuentran en el internet.\n",
    "\n",
    "Aqui usaremos datos del NREL (National Renewable Energy Laboratory): [http://rredc.nrel.gov/solar/spectra/am1.5/](http://rredc.nrel.gov/solar/spectra/am1.5/)  \n",
    "del espectro solar  (AM1.5G) con intensity (1000 W/m2). \n",
    "\n",
    "Primero lo bajamos y lo descomprimimos:"
   ]
  },
  {
   "cell_type": "code",
   "execution_count": 5,
   "metadata": {
    "collapsed": false
   },
   "outputs": [
    {
     "ename": "NameError",
     "evalue": "name 'wget' is not defined",
     "output_type": "error",
     "traceback": [
      "\u001b[1;31m---------------------------------------------------------------------------\u001b[0m",
      "\u001b[1;31mNameError\u001b[0m                                 Traceback (most recent call last)",
      "\u001b[1;32m<ipython-input-5-0fa9be83e381>\u001b[0m in \u001b[0;36m<module>\u001b[1;34m()\u001b[0m\n\u001b[0;32m      1\u001b[0m \u001b[0mdata_url\u001b[0m \u001b[1;33m=\u001b[0m \u001b[1;34m'http://rredc.nrel.gov/solar/spectra/am1.5/ASTMG173/compressed/ASTMG173.csv.tar'\u001b[0m\u001b[1;33m\u001b[0m\u001b[0m\n\u001b[1;32m----> 2\u001b[1;33m \u001b[0ma_file\u001b[0m \u001b[1;33m=\u001b[0m \u001b[0mwget\u001b[0m\u001b[1;33m.\u001b[0m\u001b[0mdownload\u001b[0m\u001b[1;33m(\u001b[0m\u001b[0mdata_url\u001b[0m\u001b[1;33m)\u001b[0m\u001b[1;33m\u001b[0m\u001b[0m\n\u001b[0m\u001b[0;32m      3\u001b[0m \u001b[0mdownload_as_tarfile_object\u001b[0m \u001b[1;33m=\u001b[0m \u001b[0mtarfile\u001b[0m\u001b[1;33m.\u001b[0m\u001b[0mopen\u001b[0m\u001b[1;33m(\u001b[0m\u001b[0mfileobj\u001b[0m\u001b[1;33m=\u001b[0m\u001b[0ma_file\u001b[0m\u001b[1;33m)\u001b[0m\u001b[1;33m\u001b[0m\u001b[0m\n\u001b[0;32m      4\u001b[0m \u001b[0mcsv_file\u001b[0m \u001b[1;33m=\u001b[0m \u001b[0mdownload_as_tarfile_object\u001b[0m\u001b[1;33m.\u001b[0m\u001b[0mextractfile\u001b[0m\u001b[1;33m(\u001b[0m\u001b[1;34m'ASTMG173.csv'\u001b[0m\u001b[1;33m)\u001b[0m\u001b[1;33m\u001b[0m\u001b[0m\n",
      "\u001b[1;31mNameError\u001b[0m: name 'wget' is not defined"
     ]
    }
   ],
   "source": [
    "data_url = 'http://rredc.nrel.gov/solar/spectra/am1.5/ASTMG173/compressed/ASTMG173.csv.tar'\n",
    "a_file = wget.download(data_url)\n",
    "download_as_tarfile_object = tarfile.open(fileobj=a_file)\n",
    "csv_file = download_as_tarfile_object.extractfile('ASTMG173.csv')"
   ]
  },
  {
   "cell_type": "markdown",
   "metadata": {},
   "source": [
    "## Que tamanio tienen los datos?"
   ]
  },
  {
   "cell_type": "code",
   "execution_count": 8,
   "metadata": {
    "collapsed": false
   },
   "outputs": [
    {
     "data": {
      "text/plain": [
       "(2002, 4)"
      ]
     },
     "execution_count": 8,
     "metadata": {},
     "output_type": "execute_result"
    }
   ],
   "source": [
    "csv_file = 'ASTMG173.csv'\n",
    "downloaded_array = np.genfromtxt(csv_file, delimiter=\",\", skip_header=2)\n",
    "downloaded_array.shape"
   ]
  },
  {
   "cell_type": "markdown",
   "metadata": {},
   "source": [
    "## Manipular datos\n",
    "La columna 0 es la longitud de onda y la 2 es los datos AM1.5G"
   ]
  },
  {
   "cell_type": "code",
   "execution_count": 9,
   "metadata": {
    "collapsed": false
   },
   "outputs": [
    {
     "name": "stdout",
     "output_type": "stream",
     "text": [
      "[[  2.80000000e+02   4.73090000e-23]\n",
      " [  2.80500000e+02   1.23070000e-21]\n",
      " [  2.81000000e+02   5.68950000e-21]\n",
      " ..., \n",
      " [  3.99000000e+03   7.37230000e-03]\n",
      " [  3.99500000e+03   7.21000000e-03]\n",
      " [  4.00000000e+03   7.10430000e-03]]\n"
     ]
    }
   ],
   "source": [
    "AM15 = downloaded_array[:,[0,2]]\n",
    "print(AM15)"
   ]
  },
  {
   "cell_type": "markdown",
   "metadata": {
    "collapsed": true
   },
   "source": [
    "## Vamos a dar unidades a cada columna\n",
    "\n",
    "* Columna1 es $\\lambda$ numeros onda, entonces queremos usar $nm$ (**nu.nm**).\n",
    "* Columna2 es **energia** entonces queremos usar usar $W/(m^{2}nm)$ (**nu.W**,**nu.m**,**nu.nm**).\n"
   ]
  },
  {
   "cell_type": "code",
   "execution_count": 10,
   "metadata": {
    "collapsed": true
   },
   "outputs": [],
   "source": [
    "AM15[:,0] *= nu.nm\n",
    "AM15[:,1] *= nu.W * nu.m**-2 * nu.nm**-1"
   ]
  },
  {
   "cell_type": "markdown",
   "metadata": {},
   "source": [
    "## Actividad: Limites de los datos\n",
    "\n",
    "Para los limites de numeros onda ($\\lambda$), podemos usar **np.min** y **np.max**.\n",
    "\n",
    "Para la energia usaremos la formula \n",
    "$$\n",
    "E = \\frac{\\hbar c_0}{\\lambda}\n",
    "$$"
   ]
  },
  {
   "cell_type": "code",
   "execution_count": 11,
   "metadata": {
    "collapsed": false
   },
   "outputs": [],
   "source": [
    "wavelength_min = \n",
    "wavelength_max = \n",
    "E_min = nu.hPlanck * nu.c0\n",
    "E_max = nu.hPlanck * nu.c0"
   ]
  },
  {
   "cell_type": "markdown",
   "metadata": {},
   "source": [
    "## Creamos una funcion, interpolando valores intermedios"
   ]
  },
  {
   "cell_type": "code",
   "execution_count": 12,
   "metadata": {
    "collapsed": true
   },
   "outputs": [],
   "source": [
    "AM15interp = scipy.interpolate.interp1d(AM15[:,0], AM15[:,1])"
   ]
  },
  {
   "cell_type": "markdown",
   "metadata": {
    "collapsed": true
   },
   "source": [
    "## Conseguimos los valores x, y\n",
    "### Actividad : consigue datos x y y\n",
    "Pista: \n",
    "\n",
    "* para **x** podemos usar linspace entre el valor minimo y maximo.\n",
    "* para **y** creamos una lista y llenamos los datos de la funcion con x"
   ]
  },
  {
   "cell_type": "code",
   "execution_count": 13,
   "metadata": {
    "collapsed": false
   },
   "outputs": [],
   "source": [
    "x = \n",
    "y = "
   ]
  },
  {
   "cell_type": "markdown",
   "metadata": {},
   "source": [
    "## Tiempo de Graficar\n",
    "\n",
    "### Actividad: Grafica el spectro solar\n",
    "\n",
    "**Ojo:** No se te olvide agregar titulos e informacion a la grafica"
   ]
  },
  {
   "cell_type": "code",
   "execution_count": 14,
   "metadata": {
    "collapsed": false
   },
   "outputs": [
    {
     "data": {
      "image/png": "[encoded data removed]",
      "text/plain": [
       "<matplotlib.figure.Figure at 0x7fe8386960d0>"
      ]
     },
     "metadata": {
      "image/png": {
       "height": 348,
       "width": 654
      }
     },
     "output_type": "display_data"
    }
   ],
   "source": []
  },
  {
   "cell_type": "markdown",
   "metadata": {},
   "source": [
    "## Compara con el espector visible\n",
    "![](visible-spectrum.png)"
   ]
  },
  {
   "cell_type": "markdown",
   "metadata": {},
   "source": [
    "# 3-6 Donde perdemos eficiencia?\n",
    "\n",
    "\n",
    "Podemos indentificar 5 partes:\n",
    "\n",
    "* **Conversion de energia a electricidad util**\n",
    "* **Energia fotonica debajo del bandgap**, esta energia no se absorbe y entonces no se gasta.\n",
    "* **Energia fotonica en exceso del bandgap**: esto es por que el electron y el hoyo se relajan inmediatamente a borde de las bandas. Por ejemplo, para un semiconductor de 1eV-bandgap, un foton de  3eV crea el mismo par electron-hoyo que uno foton de 1.01eV. Esos 2eV de energia extra que tenia el 3eV se pierden.\n",
    "* **Recombination de electron-hoyos**: toda la recombinacion en el punto de maxima energia (max-power-point) se disipa como calor;\n",
    "* **Voltaje de la celda** : el voltaje  max-power-point is less than the bandgap.\n",
    "\n",
    "Podemos poner esto en una ecuacion:\n",
    "\n",
    "$(\\text{Energia solar entrante}) = V_{MPP} \\times I_{MPP}$<br>\n",
    "$ \\qquad + (\\text{Energia fotonica debajo del bandgap})$<br>\n",
    "$ \\qquad + (\\text{Energia fotonica arriba del bandgap} - \\text{Numero de fotones arriba del bandgap} \\times \\text{Energia Bandgap})$<br>\n",
    "$ \\qquad + ((\\text{Numero de fotones arriba del bandgap}) - I_{MPP} / e) \\times (\\text{Energia Bandgap})$<br>\n",
    "$ \\qquad + I_{MPP} \\times (\\text{Voltaje del Bandgap} - V_{MPP})$<br>"
   ]
  },
  {
   "cell_type": "markdown",
   "metadata": {},
   "source": [
    "# 2 - Luz incidente\n",
    "\n",
    "\n",
    "## Calcularemos una cantidad mas intuitiva\n",
    "### Fotones por unidad de tiempo, area y rango de energia \n",
    "\n",
    "\n",
    "Haremos este cambio para hacer calculos en funcion de fotones en vez de numero onda.\n",
    "\n",
    "Para esto definimos **FotonesPorTEA** (Tiempo, Energia, Area). Convertimos los datos AM1.5 a estas nuevas unidades usando la formula:\n",
    "\n",
    "$\\text{FotonesPerTEA} = \\frac{d(\\text{numero de fotos, por unidad de tiempo, por unidad de area})}{dE} = \\frac{d(\\text{Energia foton por unidad de area})}{d\\lambda} \\; \\frac{(\\text{numero de fotos, por unidad de tiempo, por unidad de area})}{(\\text{Energia foton por unidad de area})} \\left| \\frac{d\\lambda}{dE} \\right| = $\n",
    "$ = (\\text{AM1.5 spectro}) \\; \\frac{1}{\\text{energia foton}} \\; \\frac{hc}{E^2}$\n",
    "\n",
    "(Usamos $\\left| \\frac{d\\lambda}{dE} \\right| = \\left| \\frac{d}{dE} (\\frac{hc}{E}) \\right| = \\frac{hc}{E^2}$.)"
   ]
  },
  {
   "cell_type": "code",
   "execution_count": 21,
   "metadata": {
    "collapsed": true
   },
   "outputs": [],
   "source": [
    "def FotonesPorTEA(Ephoton):\n",
    "    wavelength = nu.hPlanck * nu.c0 / Ephoton\n",
    "    return AM15interp(wavelength) * (1 / Ephoton) * (nu.hPlanck * nu.c0 / Ephoton**2)"
   ]
  },
  {
   "cell_type": "markdown",
   "metadata": {},
   "source": [
    "## Ejemplo:\n",
    "\n",
    "Este calculo nos dice que hay cerca de $1.43 \\times 10^{18}$ fotones solares con energia solar photons with energy entre 2eV y 2.001eV pegandole a un metro cuadrado (m^2) por segundo:"
   ]
  },
  {
   "cell_type": "code",
   "execution_count": 22,
   "metadata": {
    "collapsed": false
   },
   "outputs": [
    {
     "name": "stdout",
     "output_type": "stream",
     "text": [
      "1.4256732564e+18\n"
     ]
    }
   ],
   "source": [
    "print(FotonesPorTEA(2 * nu.eV) * (1 * nu.meV) * (1 * nu.m**2) * (1 * nu.s))"
   ]
  },
  {
   "cell_type": "markdown",
   "metadata": {},
   "source": [
    "## Constante Solar\n",
    "\n",
    "Esta constante es irradiancia total del sol. Debe de estar cerca de 1000 W/m^2 , asi NREL normalizo sus datos."
   ]
  },
  {
   "cell_type": "code",
   "execution_count": 23,
   "metadata": {
    "collapsed": false
   },
   "outputs": [
    {
     "name": "stdout",
     "output_type": "stream",
     "text": [
      "999.932769214\n"
     ]
    }
   ],
   "source": [
    "PowerPorTEA = lambda E : E * FotonesPerTEA(E)\n",
    "# quad() es integracion\n",
    "solar_constant = sp.integrate.quad(PowerPorTEA,E_min,E_max, full_output=1)[0]\n",
    "print(solar_constant / (nu.W/nu.m**2))"
   ]
  },
  {
   "cell_type": "markdown",
   "metadata": {},
   "source": [
    "\n",
    "\n",
    "# 3 - Fotones arriba del bandgap\n",
    "\n",
    "Para un dado bangap, definimos la funcion que es el numero total de fotones con energia arriba del bandgap, por unidad de tiempo, por unidad de espacio\n"
   ]
  },
  {
   "cell_type": "code",
   "execution_count": 24,
   "metadata": {
    "collapsed": true
   },
   "outputs": [],
   "source": [
    "def fotones_arriba_gap(Egap):\n",
    "    return scipy.integrate.quad(FotonesPorTEA, Egap, E_max, full_output=1)[0]"
   ]
  },
  {
   "cell_type": "markdown",
   "metadata": {},
   "source": [
    "### Ejemplo:\n",
    "\n",
    "Hay $2.76 \\times 10^{21}$ fotones con energia  arriba de 1.1eV que le pegan a un pedazo de $1m^2$ en un segundo:"
   ]
  },
  {
   "cell_type": "code",
   "execution_count": 25,
   "metadata": {
    "collapsed": false
   },
   "outputs": [
    {
     "name": "stdout",
     "output_type": "stream",
     "text": [
      "2.76191826278e+21\n"
     ]
    }
   ],
   "source": [
    "print(fotones_arriba_gap(1.1 * nu.eV) * (1 * nu.m**2) * (1 * nu.s))"
   ]
  },
  {
   "cell_type": "markdown",
   "metadata": {},
   "source": [
    "## En funcion de la energia"
   ]
  },
  {
   "cell_type": "code",
   "execution_count": 27,
   "metadata": {
    "collapsed": false
   },
   "outputs": [
    {
     "data": {
      "image/png": "[encoded data removed]",
      "text/plain": [
       "<matplotlib.figure.Figure at 0x7f40a4398e90>"
      ]
     },
     "metadata": {
      "image/png": {
       "height": 338,
       "width": 633
      }
     },
     "output_type": "display_data"
    }
   ],
   "source": [
    "Egap_list = np.linspace(0.4 * nu.eV, 3 * nu.eV, num=100)\n",
    "y_values = np.array([fotones_arriba_gap(E) for E in Egap_list])\n",
    "plt.plot(Egap_list / nu.eV , y_values / (1e21 * nu.m**-2 * nu.s**-1))\n",
    "plt.xlabel(\"Bandgap (eV)\")\n",
    "plt.ylabel(\"fotones arriba del gap ($10^{21}$ m$^{-2} \\cdot $s$^{-1}$)\");"
   ]
  },
  {
   "cell_type": "markdown",
   "metadata": {
    "collapsed": true
   },
   "source": [
    "# 4 Recombinacion\n",
    "## Un poco abstracto (falta traducir)\n",
    "\n",
    "In the best possible case, the only cause of electron-hole-pair recombination is radiative recombination. Radiative recombination occurs when an electron and hole collide, so it depends on how many electrons and holes there are, or more specifically it depends\n",
    "on the electron and hole QFLs.\n",
    "\n",
    "### Recombination rate when electron QFL = hole QFL (\"QFL\" is \"Quasi-Fermi Level\")\n",
    "\n",
    "This is the case where electron QFL = hole QFL throughout the semiconductor. An example is the solar cell at zero bias in the dark. Then it’s in thermal equilibrium and its radiation can be calculated by the blackbody formula – more specifically, assuming it’s a perfect blackbody above the bandgap and white-body below the bandgap. We also assume isotropic radiation from the top surface, and a mirror on the bottom surface.\n",
    "\n",
    "Let RR0 be the \"Radiative Recombination rate at 0 QFL splitting\", (per solar-cell area). By the blackbody formula:\n",
    "$$\\text{RR0} = \\frac{2\\pi}{c^2 h^3} \\int_{E_{gap}}^{\\infty} \\frac{E^2 dE}{\\exp(E/(k_B T_{cell})) - 1}$$"
   ]
  },
  {
   "cell_type": "code",
   "execution_count": 28,
   "metadata": {
    "collapsed": true
   },
   "outputs": [],
   "source": [
    "def RR0(Egap):\n",
    "    integrand = lambda E : E**2 / (np.exp(E / (nu.kB * Tcell)) - 1)\n",
    "    integral = scipy.integrate.quad(integrand, Egap, E_max, full_output=1)[0]\n",
    "    return ((2 * np.pi) / (nu.c0**2 * nu.hPlanck**3)) * integral"
   ]
  },
  {
   "cell_type": "markdown",
   "metadata": {},
   "source": [
    "## Recombination rate when electron QFL and hole QFL are split\n",
    "\n",
    "By kinetic theory, the radiative recombination rate is proportional to the product of electron concentration\n",
    "and hole concentration, $p\\times n$. If you move the electron QFL up towards the conduction band by energy $E$,\n",
    "the electron concentration increases by $\\exp(-E/kT)$. Likewise, if you move the hole QFL down towards the\n",
    "valence band by E, the hole concentration increases by $\\exp(E/k_BT)$. Either way,\n",
    "$p\\times n \\propto \\exp(E/k_BT)$, where $E$ is the QFL energy splitting.\n",
    "\n",
    "In the best possible case, the QFL splitting is equal to the external voltage (in reality, it may be larger\n",
    "than the external voltage). Therefore, the lowest possible radiative recombaniton rate is:\n",
    "\n",
    "$$\\text{Recomb rate} = e \\text{RR0} \\exp(e V / k_B T_{cell}),$$\n",
    "\n",
    "where $V$ is the external voltage.\n",
    "\n",
    "<p style=\"font-size:80%\">Note for pedants: I’m using the expression for radiative recombination $\\frac{2\\pi}{c^2 h^3} \\exp(eV/k_B T_{cell})\\int_{E_{gap}}^\\infty \\frac{E^2 dE}{\\exp(E/k_B T_{cell})-1}.$ This isn't quite right: A more accurate expression is: $\\frac{2\\pi}{c^2 h^3} \\int_{E_{gap}}^\\infty \\frac{E^2 dE}{\\exp((E-eV)/k_B T_{cell})-1}.$ The difference is negligible except for tiny tiny bandgaps (less than 200meV). For explanation see <a href=\"http://dx.doi.org/10.1109/T-ED.1980.19950\">link</a> or <a href=\"http://dx.doi.org/10.1007/BF00901283\">link</a>. (Thanks Ze’ev!)</p>\n",
    "\n",
    "## J-V curve\n",
    "The current is from the electron-hole pairs that are created but which don’t recombine. In the best case, all the solar photons possible are absorbed, while none recombine except radiatively. This gives:\n",
    "\n",
    "$$J = e (\\text{SolarPhotonsAboveGap} - \\text{RR0} (\\exp(e V / k_B T_{cell}) - 1 ))$$\n",
    "\n",
    "where $J$ is the current per unit area, and $V$ is the forward bias on the junction. The \"-1\" on the right accounts for spontaneous\n",
    "generation of e-h pairs through thermal fluctuations at 300K. I will leave out the \"-1\" below because\n",
    "$\\text{RR0} \\ll \\text{SolarPhotonsAboveGap}$, at least in the range of bandgaps that I'm plotting."
   ]
  },
  {
   "cell_type": "code",
   "execution_count": 34,
   "metadata": {
    "collapsed": true
   },
   "outputs": [],
   "source": [
    "def densidad_de_corriente(V, Egap):\n",
    "    return nu.e * (fotones_arriba_gap(Egap) - RR0(Egap) * np.exp(nu.e * V / (nu.kB * Tcell)))"
   ]
  },
  {
   "cell_type": "code",
   "execution_count": 35,
   "metadata": {
    "collapsed": true
   },
   "outputs": [],
   "source": [
    "def JSC(Egap):\n",
    "    return densidad_de_corriente(0, Egap)\n",
    "def VOC(Egap):\n",
    "    return (nu.kB * Tcell / nu.e) * np.log(fotones_arriba_gap(Egap) / RR0(Egap))"
   ]
  },
  {
   "cell_type": "markdown",
   "metadata": {},
   "source": [
    "**Examplo:** \n",
    "\n",
    "Una celda solar de 1.1eV de bandgap tiene una corriente corto-circuito de\n",
    " 44 mA/cm$^2$ y un voltaje de circuito-abierto de 0.86V."
   ]
  },
  {
   "cell_type": "code",
   "execution_count": 36,
   "metadata": {
    "collapsed": false
   },
   "outputs": [
    {
     "name": "stdout",
     "output_type": "stream",
     "text": [
      "44.2508071507\n",
      "0.857764576402\n"
     ]
    }
   ],
   "source": [
    "print(JSC(1.1 * nu.eV) / (nu.mA / nu.cm**2))\n",
    "print(VOC(1.1 * nu.eV) / nu.V)"
   ]
  },
  {
   "cell_type": "markdown",
   "metadata": {},
   "source": [
    "##  Bandgap Ideal y maxima efficiencia \n",
    "\n",
    "Dado lo que tenemos, podemos calcular el bandgap ideal y maxima eficiencia, optimizando numericamente el producto JV para cada bandgap.\n",
    "\n",
    "El \"maximum power point\" (MPP) es el punto donde la curve JV tiene un maximo, el poder maximo es la energia generada en el MPP, la eficiencia es el poder dividido por la constante solar (i.e. cuanta luz nos llega). \n"
   ]
  },
  {
   "cell_type": "code",
   "execution_count": 39,
   "metadata": {
    "collapsed": true
   },
   "outputs": [],
   "source": [
    "\n",
    "from scipy.optimize import fmin\n",
    "\n",
    "def fmax(func_to_maximize, initial_guess=0):\n",
    "    \"\"\"return the x that maximizes func_to_maximize(x)\"\"\"\n",
    "    func_to_minimize = lambda x : -func_to_maximize(x)\n",
    "    return fmin(func_to_minimize, initial_guess, disp=False)[0]\n",
    "\n",
    "def V_mpp(Egap):\n",
    "    \"\"\" voltage at max power point \"\"\"\n",
    "    return fmax(lambda V : V * densidad_de_corriente(V, Egap))\n",
    "\n",
    "def J_mpp(Egap):\n",
    "    \"\"\" current at max power point \"\"\"\n",
    "    return densidad_de_corriente(V_mpp(Egap), Egap)\n",
    "\n",
    "def max_power(Egap):\n",
    "    V = V_mpp(Egap)\n",
    "    return V * densidad_de_corriente(V, Egap)\n",
    "\n",
    "def max_efficiencia(Egap):\n",
    "    return max_power(Egap) / solar_constant"
   ]
  },
  {
   "cell_type": "markdown",
   "metadata": {},
   "source": [
    "**Example:** An ideal 1.1eV-bandgap solar cell has an efficiency of 32.9%."
   ]
  },
  {
   "cell_type": "code",
   "execution_count": 40,
   "metadata": {
    "collapsed": false
   },
   "outputs": [
    {
     "data": {
      "text/plain": [
       "0.32932950428281443"
      ]
     },
     "execution_count": 40,
     "metadata": {},
     "output_type": "execute_result"
    }
   ],
   "source": [
    "max_efficiencia(1.1 * nu.eV)"
   ]
  },
  {
   "cell_type": "markdown",
   "metadata": {},
   "source": [
    "## Actividad: Graficar el limite SC\n",
    "\n",
    "\n",
    "* Calcula la eficiencia maxima para cada valor de bandgap\n",
    "* x son los bangaps\n",
    "* y son la eficiencia maxima\n",
    "* Grafica!\n",
    "\n"
   ]
  },
  {
   "cell_type": "code",
   "execution_count": null,
   "metadata": {
    "collapsed": true
   },
   "outputs": [],
   "source": []
  },
  {
   "cell_type": "markdown",
   "metadata": {},
   "source": [
    "# Panorama de las perdidas\n",
    "\n",
    "\n",
    "$(\\text{Energia solar entrante}) = V_{MPP} \\times I_{MPP}$<br>\n",
    "$ \\qquad + (\\text{Energia fotonica debajo del bandgap})$<br>\n",
    "$ \\qquad + (\\text{Energia fotonica arriba del bandgap} - \\text{Numero de fotones arriba del bandgap} \\times \\text{Energia Bandgap})$<br>\n",
    "$ \\qquad + ((\\text{Numero de fotones arriba del bandgap}) - I_{MPP} / e) \\times (\\text{Energia Bandgap})$<br>\n",
    "$ \\qquad + I_{MPP} \\times (\\text{Voltaje del Bandgap} - V_{MPP})$<br>"
   ]
  },
  {
   "cell_type": "code",
   "execution_count": 47,
   "metadata": {
    "collapsed": true
   },
   "outputs": [],
   "source": [
    "def electricidad_util(Egap):\n",
    "    return max_efficiencia(Egap)\n",
    "\n",
    "def energia_debajo_bandgap(Egap):\n",
    "    integrand = lambda E : E * FotonesPorTEA(E)\n",
    "    return scipy.integrate.quad(integrand, E_min, Egap, full_output=1)[0] / solar_constant\n",
    "\n",
    "def exceso_arriba_bandgap(Egap):\n",
    "    integrand = lambda E : (E - Egap) * FotonesPorTEA(E)\n",
    "    return scipy.integrate.quad(integrand, Egap, E_max, full_output=1)[0] / solar_constant\n",
    "\n",
    "def mpp_recombination(Egap):\n",
    "    return (solar_photons_above_gap(Egap) - J_mpp(Egap) / nu.e) * Egap / solar_constant\n",
    "\n",
    "def mpp_voltage_debajo_bangap(Egap):\n",
    "    return J_mpp(Egap) * (Egap / nu.e - V_mpp(Egap)) / solar_constant"
   ]
  },
  {
   "cell_type": "markdown",
   "metadata": {},
   "source": [
    "## Actividad: Usa las funciones con una celda solar 1.1eV\n",
    "\n",
    "### Calcula la energia y las perdidas \n",
    "Por ejemplo para calcular el porcentaje de recombinacion usamos\n",
    "\n",
    "```python\n",
    "mpp_recombination(1.1 * nu.eV)\n",
    "```\n",
    "\n",
    "Suma todo para ver que si llega al 100%\n"
   ]
  },
  {
   "cell_type": "code",
   "execution_count": 44,
   "metadata": {
    "collapsed": false
   },
   "outputs": [
    {
     "data": {
      "text/plain": [
       "0.015802308919002767"
      ]
     },
     "execution_count": 44,
     "metadata": {},
     "output_type": "execute_result"
    }
   ],
   "source": [
    "mpp_recombination(1.1 * nu.eV)"
   ]
  },
  {
   "cell_type": "markdown",
   "metadata": {},
   "source": [
    "Cuanto suma todo?"
   ]
  },
  {
   "cell_type": "code",
   "execution_count": null,
   "metadata": {
    "collapsed": true
   },
   "outputs": [],
   "source": []
  },
  {
   "cell_type": "markdown",
   "metadata": {},
   "source": [
    "## Graficando cada contribucion"
   ]
  },
  {
   "cell_type": "code",
   "execution_count": null,
   "metadata": {
    "collapsed": false
   },
   "outputs": [
    {
     "name": "stdout",
     "output_type": "stream",
     "text": [
      "0.00% .. 4.00% .. 8.00% .. 12.00% .. 16.00% .. 20.00% .. 24.00% .. 28.00% .. 32.00% .. 36.00% .. 40.00% .. "
     ]
    }
   ],
   "source": [
    "Egap_list = np.linspace(0.4 * nu.eV, 3 * nu.eV, num=25)\n",
    "loss_list = []\n",
    "for indx,Egap in enumerate(Egap_list):\n",
    "    e_util = electricidad_util(Egap)\n",
    "    gap_abajo = energia_debajo_bandgap(Egap)\n",
    "    gap_arriba = exceso_arriba_bandgap(Egap)\n",
    "    mpp_recomb = mpp_recombination(Egap)\n",
    "    mpp_voltaje = mpp_voltage_debajo_bangap(Egap)\n",
    "    loss_list.append([e_util,gap_abajo,gap_arriba,mpp_recomb,mpp_voltaje])\n",
    "    print(\"%2.2f%% .. \"%(indx/float(len(Egap_list))*100.0),end='')\n",
    "\n",
    "loss_list = np.array(loss_list)\n",
    "# sumamos todo y lo ponemos encima\n",
    "loss_list = np.cumsum(loss_list,axis=1)\n",
    "\n",
    "fig = plt.figure()\n",
    "ax1 = fig.add_subplot(111)\n",
    "ax1.fill_between(Egap_list / nu.eV,              0, loss_list[:,0], facecolor=\"k\")\n",
    "ax1.fill_between(Egap_list / nu.eV, loss_list[:,0], loss_list[:,1], facecolor=\"m\")\n",
    "ax1.fill_between(Egap_list / nu.eV, loss_list[:,1], loss_list[:,2], facecolor=\"g\")\n",
    "ax1.fill_between(Egap_list / nu.eV, loss_list[:,2], loss_list[:,3], facecolor=\"b\")\n",
    "ax1.fill_between(Egap_list / nu.eV, loss_list[:,3],              1, facecolor=\"0.75\")\n",
    "plt.title('POWER GOES TO...\\n'\n",
    "          'Energia Util (negro);\\n'\n",
    "          'debajo del gap (magenta);\\n'\n",
    "          'exceso del gap (verde);\\n'\n",
    "          'Current loss from radiative recombination (azul)\\n'\n",
    "          'Voltage menor del bandgap (gris)')\n",
    "plt.xlabel('Bandgap (eV)')\n",
    "plt.ylabel('Fraccion de luz incidente')\n",
    "plt.xlim(0.4, 3)\n",
    "plt.ylim(0,1);"
   ]
  },
  {
   "cell_type": "markdown",
   "metadata": {},
   "source": [
    "# Como podemos mejorar?\n",
    "## Multi-junction\n",
    "![](multi-junction.png)\n",
    "\n",
    "## Manufactura\n",
    "\n",
    "![](first-Solar-road-map.png)\n",
    "\n",
    "## Reciclaje de fotones\n",
    "\n",
    "![](Photon-recycling.png)\n",
    "![](mirror.png)\n",
    "\n",
    "## Concentradores\n",
    "![](solar_concentrator.jpg)\n",
    "## Nuevos materiales? Estrategias\n",
    "![](efficiency_chart.jpg)"
   ]
  }
 ],
 "metadata": {
  "kernelspec": {
   "display_name": "Python 2",
   "language": "python",
   "name": "python2"
  },
  "language_info": {
   "codemirror_mode": {
    "name": "ipython",
    "version": 2
   },
   "file_extension": ".py",
   "mimetype": "text/x-python",
   "name": "python",
   "nbconvert_exporter": "python",
   "pygments_lexer": "ipython2",
   "version": "2.7.12"
  },
  "latex_envs": {
   "bibliofile": "biblio.bib",
   "cite_by": "apalike",
   "current_citInitial": 1,
   "eqLabelWithNumbers": true,
   "eqNumInitial": 0
  }
 },
 "nbformat": 4,
 "nbformat_minor": 0
}

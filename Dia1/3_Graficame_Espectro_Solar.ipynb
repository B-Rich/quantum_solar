{
 "cells": [
  {
   "cell_type": "markdown",
   "metadata": {},
   "source": [
    "# Intro a Matplotlib\n",
    "## Matplotlib = Libreria para graficas cosas matematicas\n",
    "### Que es Matplotlib?\n",
    "\n",
    "![alt text](http://matplotlib.org/_static/logo2.png)\n",
    "\n",
    "Matplotlin es un libreria para crear imagenes 2D de manera facil.\n",
    "\n",
    "Checate mas en :\n",
    "\n",
    "* Pagina oficial : http://matplotlib.org/\n",
    "* Galleria de ejemplo: http://matplotlib.org/gallery.html\n",
    "* Una libreria mas avanzada que usa matplotlib, Seaborn: http://stanford.edu/~mwaskom/software/seaborn/\n",
    "* Libreria de visualizacion interactiva: http://bokeh.pydata.org/\n",
    "* Buenisimo Tutorial: http://www.labri.fr/perso/nrougier/teaching/matplotlib/\n",
    "\n",
    "Para usar matplotlib, solo tiene que importar el modulo ..tambien te conviene importar numpy pues es muy util"
   ]
  },
  {
   "cell_type": "code",
   "execution_count": 1,
   "metadata": {
    "collapsed": false
   },
   "outputs": [
    {
     "name": "stderr",
     "output_type": "stream",
     "text": [
      "/opt/conda/envs/python2/lib/python2.7/site-packages/matplotlib/font_manager.py:273: UserWarning: Matplotlib is building the font cache using fc-list. This may take a moment.\n",
      "  warnings.warn('Matplotlib is building the font cache using fc-list. This may take a moment.')\n"
     ]
    }
   ],
   "source": [
    "import numpy as np # modulo de computo numerico\n",
    "import matplotlib.pyplot as plt # modulo de graficas\n",
    "import pandas as pd # modulo de datos\n",
    "import seaborn as sns\n",
    "# esta linea hace que las graficas salgan en el notebook\n",
    "%matplotlib inline"
   ]
  },
  {
   "cell_type": "markdown",
   "metadata": {},
   "source": [
    "## Crear graficas (plot)\n",
    "\n",
    "Crear graficas es muy facil en matplotlib, si tienes una lista de valores X y otra y..solo basta usar :"
   ]
  },
  {
   "cell_type": "code",
   "execution_count": null,
   "metadata": {
    "collapsed": false
   },
   "outputs": [],
   "source": []
  },
  {
   "cell_type": "markdown",
   "metadata": {},
   "source": [
    "Podemos usar la funcion **np.linspace** para crear valores en un rango, por ejemplo si queremos 100 numeros entre 0 y 10 usamos:"
   ]
  },
  {
   "cell_type": "code",
   "execution_count": null,
   "metadata": {
    "collapsed": false
   },
   "outputs": [],
   "source": []
  },
  {
   "cell_type": "markdown",
   "metadata": {},
   "source": [
    "Y podemos graficar dos cosas al mismo tiempo:"
   ]
  },
  {
   "cell_type": "code",
   "execution_count": null,
   "metadata": {
    "collapsed": false
   },
   "outputs": [],
   "source": []
  },
  {
   "cell_type": "markdown",
   "metadata": {},
   "source": [
    "Que tal si queremos distinguir cada linea? Pues usamos **legend()**, de leyenda..tambien tenemos que agregarles nombres a cada plot"
   ]
  },
  {
   "cell_type": "code",
   "execution_count": null,
   "metadata": {
    "collapsed": false
   },
   "outputs": [],
   "source": []
  },
  {
   "cell_type": "markdown",
   "metadata": {},
   "source": [
    "Tambien podemos hacer mas cosas, como dibujar solamente los puntos, o las lineas con los puntos usando **linestyle**:"
   ]
  },
  {
   "cell_type": "code",
   "execution_count": null,
   "metadata": {
    "collapsed": false
   },
   "outputs": [],
   "source": []
  },
  {
   "cell_type": "markdown",
   "metadata": {},
   "source": [
    "## Dibujando puntos (scatter)\n",
    "\n",
    "Aveces no queremos dibujar lineas, sino puntos, esto nos da informacion de donde se encuentras datos de manera espacial. Para esto podemos usarlo de la siguiente manera:"
   ]
  },
  {
   "cell_type": "code",
   "execution_count": null,
   "metadata": {
    "collapsed": false
   },
   "outputs": [],
   "source": []
  },
  {
   "cell_type": "markdown",
   "metadata": {},
   "source": [
    "Pero ademas podemos meter mas informacion, por ejemplo dar colores cada punto, o darle tamanos diferentes:"
   ]
  },
  {
   "cell_type": "code",
   "execution_count": null,
   "metadata": {
    "collapsed": false
   },
   "outputs": [],
   "source": []
  },
  {
   "cell_type": "markdown",
   "metadata": {},
   "source": [
    "## Histogramas (**hist**)\n",
    "\n",
    "Los histogramas nos muestran distribuciones de datos, la forma de los datos, nos muestran el numero de datos de diferentes tipos:"
   ]
  },
  {
   "cell_type": "code",
   "execution_count": null,
   "metadata": {
    "collapsed": false
   },
   "outputs": [],
   "source": []
  },
  {
   "cell_type": "markdown",
   "metadata": {},
   "source": [
    "otro tipo de datos, tomados de una campana de gauss, es decir una distribucion normal:"
   ]
  },
  {
   "cell_type": "code",
   "execution_count": null,
   "metadata": {
    "collapsed": false
   },
   "outputs": [],
   "source": []
  },
  {
   "cell_type": "code",
   "execution_count": null,
   "metadata": {
    "collapsed": false
   },
   "outputs": [],
   "source": []
  },
  {
   "cell_type": "markdown",
   "metadata": {
    "collapsed": false
   },
   "source": [
    "# A graficar el Hermoso Espectro Solar\n",
    "\n",
    "\n",
    "\n",
    "## Primero constantes numericas\n",
    "\n",
    "Para usarlo convertimos numeros a unidades, por ejemplo:\n",
    "\n",
    "`x = 5 * nu.cm` significa \"x es igual a 5 centimetros\".\n",
    "\n",
    "si quieres sacar el valor numerico de x, podemos dividir por las unidades\n",
    "\n",
    "`y = x / nu.mm `, en este caso tenemos el valor numerico en milimetros"
   ]
  },
  {
   "cell_type": "code",
   "execution_count": 2,
   "metadata": {
    "collapsed": false
   },
   "outputs": [],
   "source": [
    "import numericalunits as nu"
   ]
  },
  {
   "cell_type": "markdown",
   "metadata": {},
   "source": [
    "Importamos varios paquetes de Python"
   ]
  },
  {
   "cell_type": "code",
   "execution_count": 3,
   "metadata": {
    "collapsed": false
   },
   "outputs": [],
   "source": [
    "import  scipy.interpolate, scipy.integrate, wget, tarfile"
   ]
  },
  {
   "cell_type": "markdown",
   "metadata": {},
   "source": [
    "Definimos la Celda solar cualquiera a una temperatura de 300 kelvin:"
   ]
  },
  {
   "cell_type": "code",
   "execution_count": null,
   "metadata": {
    "collapsed": true
   },
   "outputs": [],
   "source": [
    "tCell = 300 * nu.K"
   ]
  },
  {
   "cell_type": "markdown",
   "metadata": {},
   "source": [
    "## Bajar datos\n",
    "\n",
    "Aveces los datos que queremos se encuentran en el internet.\n",
    "\n",
    "Aqui usaremos datos del NREL (National Renewable Energy Laboratory): [http://rredc.nrel.gov/solar/spectra/am1.5/](http://rredc.nrel.gov/solar/spectra/am1.5/)  \n",
    "del espectro solar  (AM1.5G) con intensity (1000 W/m2). \n",
    "\n",
    "Primero lo bajamos y lo descomprimimos:"
   ]
  },
  {
   "cell_type": "code",
   "execution_count": null,
   "metadata": {
    "collapsed": false
   },
   "outputs": [],
   "source": [
    "data_url = 'http://rredc.nrel.gov/solar/spectra/am1.5/ASTMG173/compressed/ASTMG173.csv.tar'\n",
    "a_file = wget.download(data_url)\n",
    "download_as_tarfile_object = tarfile.open(fileobj=a_file)\n",
    "csv_file = download_as_tarfile_object.extractfile('ASTMG173.csv')"
   ]
  },
  {
   "cell_type": "markdown",
   "metadata": {},
   "source": [
    "## Que tamanio tienen los datos?"
   ]
  },
  {
   "cell_type": "code",
   "execution_count": 4,
   "metadata": {
    "collapsed": false
   },
   "outputs": [
    {
     "data": {
      "text/plain": [
       "(2002, 4)"
      ]
     },
     "execution_count": 4,
     "metadata": {},
     "output_type": "execute_result"
    }
   ],
   "source": [
    "downloaded_array = np.genfromtxt('ASTMG173.csv', delimiter=\",\", skip_header=2)\n",
    "downloaded_array.shape"
   ]
  },
  {
   "cell_type": "markdown",
   "metadata": {},
   "source": [
    "## Manipular datos\n",
    "La columna 0 es la longitud de onda y la 2 es los datos AM1.5G"
   ]
  },
  {
   "cell_type": "code",
   "execution_count": 5,
   "metadata": {
    "collapsed": false
   },
   "outputs": [
    {
     "name": "stdout",
     "output_type": "stream",
     "text": [
      "[[  2.80000000e+02   4.73090000e-23]\n",
      " [  2.80500000e+02   1.23070000e-21]\n",
      " [  2.81000000e+02   5.68950000e-21]\n",
      " ..., \n",
      " [  3.99000000e+03   7.37230000e-03]\n",
      " [  3.99500000e+03   7.21000000e-03]\n",
      " [  4.00000000e+03   7.10430000e-03]]\n"
     ]
    }
   ],
   "source": [
    "# Wavelength is in column 0, AM1.5G data is column 2\n",
    "AM15 = downloaded_array[:,[0,2]]\n",
    "# The first line should be 280.0 , 4.7309E-23\n",
    "# The last line should be 4000.0, 7.1043E-03\n",
    "print(AM15)"
   ]
  },
  {
   "cell_type": "markdown",
   "metadata": {
    "collapsed": true
   },
   "source": [
    "## Vamos a dar unidades a cada columna"
   ]
  },
  {
   "cell_type": "code",
   "execution_count": 6,
   "metadata": {
    "collapsed": true
   },
   "outputs": [],
   "source": [
    "AM15[:,0] *= nu.nm\n",
    "AM15[:,1] *= nu.W * nu.m**-2 * nu.nm**-1"
   ]
  },
  {
   "cell_type": "markdown",
   "metadata": {},
   "source": [
    "## Limites de los datos\n",
    "\n",
    "Para los limites de numeros onda ($\\lambda$), podemos usar **np.min** y **np.max**.\n",
    "\n",
    "Para la energia usaremos la formula \n",
    "$$\n",
    "E = \\frac{\\hbar c_0}{\\lambda}\n",
    "$$"
   ]
  },
  {
   "cell_type": "code",
   "execution_count": null,
   "metadata": {
    "collapsed": true
   },
   "outputs": [],
   "source": [
    "wavelength_min = \n",
    "wavelength_max = \n",
    "E_min = nu.hPlanck * nu.c0 \n",
    "E_max = nu.hPlanck * nu.c0 "
   ]
  },
  {
   "cell_type": "markdown",
   "metadata": {},
   "source": [
    "## Creamos una funcion, interpolando valores intermedios"
   ]
  },
  {
   "cell_type": "code",
   "execution_count": null,
   "metadata": {
    "collapsed": true
   },
   "outputs": [],
   "source": [
    "AM15interp = scipy.interpolate.interp1d(AM15[:,0], AM15[:,1])"
   ]
  },
  {
   "cell_type": "markdown",
   "metadata": {
    "collapsed": true
   },
   "source": [
    "## Conseguimos los valores x, y\n",
    "\n",
    "Pista: \n",
    "\n",
    "* para **x** podemos usar linspace entre el valor minimo y maximo.\n",
    "* para **y** creamos una lista y llenamos los datos de la funcion con x"
   ]
  },
  {
   "cell_type": "code",
   "execution_count": null,
   "metadata": {
    "collapsed": true
   },
   "outputs": [],
   "source": []
  },
  {
   "cell_type": "markdown",
   "metadata": {},
   "source": [
    "# Tiempo de Graficar"
   ]
  },
  {
   "cell_type": "code",
   "execution_count": null,
   "metadata": {
    "collapsed": true
   },
   "outputs": [],
   "source": []
  }
 ],
 "metadata": {
  "kernelspec": {
   "display_name": "Python 2",
   "language": "python",
   "name": "python2"
  },
  "language_info": {
   "codemirror_mode": {
    "name": "ipython",
    "version": 2
   },
   "file_extension": ".py",
   "mimetype": "text/x-python",
   "name": "python",
   "nbconvert_exporter": "python",
   "pygments_lexer": "ipython2",
   "version": "2.7.12"
  },
  "latex_envs": {
   "bibliofile": "biblio.bib",
   "cite_by": "apalike",
   "current_citInitial": 1,
   "eqLabelWithNumbers": true,
   "eqNumInitial": 0
  }
 },
 "nbformat": 4,
 "nbformat_minor": 0
}

{
 "cells": [
  {
   "cell_type": "markdown",
   "metadata": {},
   "source": [
    "# The Shockley-Queisser limit\n",
    "\n",
    "By Steven J. Byrnes. Last modified: 21 March 2016. This document lives at my website, [http://sjbyrnes.com/](http://sjbyrnes.com/). Please email me any\n",
    "feedback: steven.byrnes@gmail.com\n",
    "\n",
    "The Schockley-Queisser (SQ) limit is a famous limit on the maximal possible efficiency of solar cells, limited only by fundamental physics. It applies to most solar cell designs in the world, except for \"tandem solar cells\" and some additional obscure exceptions (discussed at the end of the document). The most important parameter in the SQ model is the bandgap of the semiconductor: If the gap is right, the efficiency can be up to 34%, if the gap is way off, the efficiency limit may be much smaller. [Here is the original SQ paper](http://dx.doi.org/10.1063/1.1736034), but it’s also covered in every solar-cell textbook.\n",
    "\n",
    "I’m using NREL’s data for the solar spectrum (AM1.5G) and intensity (1000 W/m<sup>2</sup>). In the original SQ paper, they assumed that\n",
    "the sun had a 6000-kelvin blackbody spectrum. So my graphs and values are slightly different. However, other papers and books\n",
    "that use AM1.5G spectrum get the same results as I do, for example [link 1](http://www.opticsinfobase.org/abstract.cfm?URI=OSE-2010-SWA1), [link 2](http://www.opticsinfobase.org/abstract.cfm?URI=OSE-2010-SWC4), *Practical Handbook of Photovoltaics* p128-9,\n",
    "[link 3](http://dx.doi.org/10.1109/T-ED.1984.21594).\n",
    "\n",
    "I copied many of these graphs into the Wikipedia article on this topic - [http://en.wikipedia.org/wiki/Shockley-Queisser_limit](http://en.wikipedia.org/wiki/Shockley-Queisser_limit)\n",
    "\n",
    "In this document you will find:\n",
    "\n",
    "* A plot of the SQ efficiency limit as a function of bandgap\n",
    "* A plot of the SQ limit on short-circuit current, on open-circuit voltage, and on fill-factor, as a function of bandgap\n",
    "* A breakdown of exactly which factors lower the SQ limit for which bandgaps\n",
    "* A list of some \"loopholes\" to exceed the SQ limit.\n",
    "\n",
    "Enjoy!\n",
    "\n",
    "<p style=\"font-size:80%\">Since someone asked me: \"I release this document and code to the public domain.\"</p>\n",
    "\n",
    "<p style=\"font-size:80%\">Pronunciation of \"Queisser\": Hans-Joachim Queisser was German, so a German-speaker helped me guess how the name is pronounced. He guesses that \"Queisser\" rhymes with \"nicer\". (\"Qu\" as in \"quick\", \"ei\" as in \"Einstein\", \"ss\" as in \"kiss\", \"er\" as in \"teacher\"). (Thanks Florian!)</p>\n",
    "\n",
    "## General program setup\n",
    "\n",
    "This document is a mix of text and Python code, written using [Jupyter Notebook](http://jupyter.org/) (See also [my page on installing and starting Python](http://sjbyrnes.com/python/).)\n",
    "\n",
    "Note: If you run all the code in this file, including re-creating all the graphs, it may take a few hours. (I made no effort to write efficient code.)"
   ]
  },
  {
   "cell_type": "code",
   "execution_count": 1,
   "metadata": {
    "collapsed": false
   },
   "outputs": [],
   "source": [
    "# requires Python 3.4\n",
    "import sys\n",
    "assert sys.version_info >= (3,4)"
   ]
  },
  {
   "cell_type": "markdown",
   "metadata": {},
   "source": [
    "Import various Python packages"
   ]
  },
  {
   "cell_type": "code",
   "execution_count": 2,
   "metadata": {
    "collapsed": true
   },
   "outputs": [],
   "source": [
    "import numpy, scipy.interpolate, scipy.integrate, urllib.request, io, tarfile"
   ]
  },
  {
   "cell_type": "markdown",
   "metadata": {},
   "source": [
    "The following is a special ipython command: It defines mathematical functions like `exp` and `plot` (same as \"`from pylab import *`\"), and it also makes matplotlib plots display on the page:"
   ]
  },
  {
   "cell_type": "code",
   "execution_count": 3,
   "metadata": {
    "collapsed": false
   },
   "outputs": [
    {
     "name": "stdout",
     "output_type": "stream",
     "text": [
      "Populating the interactive namespace from numpy and matplotlib\n"
     ]
    }
   ],
   "source": [
    "%pylab inline"
   ]
  },
  {
   "cell_type": "markdown",
   "metadata": {},
   "source": [
    "One more package: A units-and-constants package I wrote: http://pypi.python.org/pypi/numericalunits\n",
    "\n",
    "Example: <span style=\"color:blue\">x = 5 * nu.cm</span> means \"x equals 5 centimeters\".\n",
    "\n",
    "Example: <span style=\"color:blue\">y = x / nu.mm</span> means \"y is the numerical value of x in millimeters'\". "
   ]
  },
  {
   "cell_type": "code",
   "execution_count": 4,
   "metadata": {
    "collapsed": true
   },
   "outputs": [],
   "source": [
    "import numericalunits as nu"
   ]
  },
  {
   "cell_type": "markdown",
   "metadata": {},
   "source": [
    "## Program inputs\n",
    "\n",
    "Solar cell temperature is 300 kelvin:"
   ]
  },
  {
   "cell_type": "code",
   "execution_count": 5,
   "metadata": {
    "collapsed": true
   },
   "outputs": [],
   "source": [
    "Tcell = 300 * nu.K"
   ]
  },
  {
   "cell_type": "markdown",
   "metadata": {},
   "source": [
    "The incident light intensity and spectrum is assumed to be the NREL AM1.5G spectrum, which approximates the light coming from the sun and sky at a typical latitude on a clear day. For more information go to http://rredc.nrel.gov/solar/spectra/am1.5/"
   ]
  },
  {
   "cell_type": "code",
   "execution_count": 6,
   "metadata": {
    "collapsed": false
   },
   "outputs": [
    {
     "name": "stdout",
     "output_type": "stream",
     "text": [
      "[[  2.80000000e+02   4.73090000e-23]\n",
      " [  2.80500000e+02   1.23070000e-21]\n",
      " [  2.81000000e+02   5.68950000e-21]\n",
      " ..., \n",
      " [  3.99000000e+03   7.37230000e-03]\n",
      " [  3.99500000e+03   7.21000000e-03]\n",
      " [  4.00000000e+03   7.10430000e-03]]\n"
     ]
    }
   ],
   "source": [
    "data_url = 'http://rredc.nrel.gov/solar/spectra/am1.5/ASTMG173/compressed/ASTMG173.csv.tar'\n",
    "download_as_bytes = urllib.request.urlopen(data_url).read()\n",
    "download_as_file = io.BytesIO(download_as_bytes)\n",
    "download_as_tarfile_object = tarfile.open(fileobj=download_as_file)\n",
    "my_csv_file = download_as_tarfile_object.extractfile('ASTMG173.csv')\n",
    "downloaded_array = numpy.genfromtxt(my_csv_file, delimiter=\",\", skip_header=2)\n",
    "\n",
    "# Wavelength is in column 0, AM1.5G data is column 2\n",
    "AM15 = downloaded_array[:,[0,2]]\n",
    "\n",
    "# The first line should be 280.0 , 4.7309E-23\n",
    "# The last line should be 4000.0, 7.1043E-03\n",
    "print(AM15)"
   ]
  },
  {
   "cell_type": "markdown",
   "metadata": {},
   "source": [
    "Tack on the appropriate units:"
   ]
  },
  {
   "cell_type": "code",
   "execution_count": 7,
   "metadata": {
    "collapsed": true
   },
   "outputs": [],
   "source": [
    "AM15[:,0] *= nu.nm\n",
    "AM15[:,1] *= nu.W * nu.m**-2 * nu.nm**-1"
   ]
  },
  {
   "cell_type": "markdown",
   "metadata": {},
   "source": [
    "The NREL data spans the following spectral range (in terms of both photon-wavelength and photon-frequency):"
   ]
  },
  {
   "cell_type": "code",
   "execution_count": 8,
   "metadata": {
    "collapsed": true
   },
   "outputs": [],
   "source": [
    "wavelength_min = 280 * nu.nm\n",
    "wavelength_max = 4000 * nu.nm\n",
    "E_min = nu.hPlanck * nu.c0 / wavelength_max\n",
    "E_max = nu.hPlanck * nu.c0 / wavelength_min"
   ]
  },
  {
   "cell_type": "markdown",
   "metadata": {},
   "source": [
    "Interpolate to get a continuous function which I will be able to do integrals on:"
   ]
  },
  {
   "cell_type": "code",
   "execution_count": 9,
   "metadata": {
    "collapsed": true
   },
   "outputs": [],
   "source": [
    "AM15interp = scipy.interpolate.interp1d(AM15[:,0], AM15[:,1])"
   ]
  },
  {
   "cell_type": "markdown",
   "metadata": {},
   "source": [
    "Here’s the plot, it looks correct:"
   ]
  },
  {
   "cell_type": "code",
   "execution_count": 10,
   "metadata": {
    "collapsed": false
   },
   "outputs": [
    {
     "data": {
      "image/png": "[encoded data removed]",
      "text/plain": [
       "<matplotlib.figure.Figure at 0x7f0c6c0531d0>"
      ]
     },
     "metadata": {},
     "output_type": "display_data"
    }
   ],
   "source": [
    "wavelengths = numpy.linspace(wavelength_min, wavelength_max, num=500)\n",
    "y_values = numpy.array([AM15interp(x) for x in wavelengths])\n",
    "plot(wavelengths / nu.nm , y_values / (nu.W / nu.m**2 / nu.nm))\n",
    "xlabel(\"Wavelength (nm)\")\n",
    "ylabel(\"Spectral intensity (W/m$^2$/nm)\")\n",
    "title(\"Light from the sun\");"
   ]
  },
  {
   "cell_type": "markdown",
   "metadata": {},
   "source": [
    "## Properties of incident sunlight\n",
    "### Put solar spectrum data in more convenient form\n",
    "It’s a bit more convenient for me to change the units for the solar spectrum, so that I can easily do integrals over photon energy, rather than wavelength, and calculate the number of photons instead of their energy. Therefore, I’ll define the function \"SPhotonsPerTEA\" which stands for Solar Photons per unit Time, per unit photon Energy-range, per unit Area of the solar cell (assuming the cell is facing normal to the sun). To convert from the AM1.5 data to these new units, the formula is:\n",
    "\n",
    "$\\text{SPhotonsPerTEA} = \\frac{d(\\text{number of photons per unit time per unit area})}{dE} = \\frac{d(\\text{photon power per unit area})}{d\\lambda} \\; \\frac{(\\text{number of photons per unit time per unit area})}{(\\text{photon power per unit area})} \\left| \\frac{d\\lambda}{dE} \\right| = $\n",
    "$ = (\\text{AM1.5 spectrum}) \\; \\frac{1}{\\text{photon energy}} \\; \\frac{hc}{E^2}$\n",
    "\n",
    "(I used $\\left| \\frac{d\\lambda}{dE} \\right| = \\left| \\frac{d}{dE} (\\frac{hc}{E}) \\right| = \\frac{hc}{E^2}$.)"
   ]
  },
  {
   "cell_type": "code",
   "execution_count": 11,
   "metadata": {
    "collapsed": true
   },
   "outputs": [],
   "source": [
    "def SPhotonsPerTEA(Ephoton):\n",
    "    wavelength = nu.hPlanck * nu.c0 / Ephoton\n",
    "    return AM15interp(wavelength) * (1 / Ephoton) * (nu.hPlanck * nu.c0 / Ephoton**2)"
   ]
  },
  {
   "cell_type": "markdown",
   "metadata": {},
   "source": [
    "Example: The following calculation means that there are $1.43 \\times 10^{18}$ solar photons with energy between 2eV and 2.001eV that hit a 1-square-meter patch each second:"
   ]
  },
  {
   "cell_type": "code",
   "execution_count": 12,
   "metadata": {
    "collapsed": false
   },
   "outputs": [
    {
     "name": "stdout",
     "output_type": "stream",
     "text": [
      "1.4256732564e+18\n"
     ]
    }
   ],
   "source": [
    "print(SPhotonsPerTEA(2 * nu.eV) * (1 * nu.meV) * (1 * nu.m**2) * (1 * nu.s))"
   ]
  },
  {
   "cell_type": "markdown",
   "metadata": {},
   "source": [
    "Next: The \"Solar constant\" is the sun's total irradiance. If I did this right, it should be 1000 watts/meter$^2$, because that's how NREL normalized their data."
   ]
  },
  {
   "cell_type": "code",
   "execution_count": 13,
   "metadata": {
    "collapsed": false
   },
   "outputs": [
    {
     "name": "stdout",
     "output_type": "stream",
     "text": [
      "999.932769213902\n"
     ]
    }
   ],
   "source": [
    "PowerPerTEA = lambda E : E * SPhotonsPerTEA(E)\n",
    "# quad() is ordinary integration; full_output=1 is (surprisingly) how you hide\n",
    "# the messages warning about poor accuracy in integrating.\n",
    "solar_constant = scipy.integrate.quad(PowerPerTEA,E_min,E_max, full_output=1)[0]\n",
    "print(solar_constant / (nu.W/nu.m**2))"
   ]
  },
  {
   "cell_type": "markdown",
   "metadata": {},
   "source": [
    "Close enough!\n",
    "\n",
    "### Photons above bandgap\n",
    "\n",
    "For a given bandgap, I’m defining a function which is the total number of solar photons with energy above the bandgap, per unit\n",
    "time, per unit ground area on earth."
   ]
  },
  {
   "cell_type": "code",
   "execution_count": 14,
   "metadata": {
    "collapsed": true
   },
   "outputs": [],
   "source": [
    "def solar_photons_above_gap(Egap):\n",
    "    return scipy.integrate.quad(SPhotonsPerTEA, Egap, E_max, full_output=1)[0]"
   ]
  },
  {
   "cell_type": "markdown",
   "metadata": {},
   "source": [
    "Here's an example: This means that $2.76 \\times 10^{21}$ photons with energy above 1.1eV hit a one-square-meter patch of ground in one second:"
   ]
  },
  {
   "cell_type": "code",
   "execution_count": 15,
   "metadata": {
    "collapsed": false
   },
   "outputs": [
    {
     "name": "stdout",
     "output_type": "stream",
     "text": [
      "2.761918262776917e+21\n"
     ]
    }
   ],
   "source": [
    "print(solar_photons_above_gap(1.1 * nu.eV) * (1 * nu.m**2) * (1 * nu.s))"
   ]
  },
  {
   "cell_type": "markdown",
   "metadata": {},
   "source": [
    "Here's a plot:"
   ]
  },
  {
   "cell_type": "code",
   "execution_count": 16,
   "metadata": {
    "collapsed": false
   },
   "outputs": [
    {
     "data": {
      "image/png": "[encoded data removed]",
      "text/plain": [
       "<matplotlib.figure.Figure at 0x7f0c403fd588>"
      ]
     },
     "metadata": {},
     "output_type": "display_data"
    }
   ],
   "source": [
    "Egap_list = numpy.linspace(0.4 * nu.eV, 3 * nu.eV, num=100)\n",
    "y_values = numpy.array([solar_photons_above_gap(E) for E in Egap_list])\n",
    "plot(Egap_list / nu.eV , y_values / (1e21 * nu.m**-2 * nu.s**-1))\n",
    "xlabel(\"Bandgap energy (eV)\")\n",
    "ylabel(\"Photons above bandgap ($10^{21}$ m$^{-2} \\cdot $s$^{-1}$)\");"
   ]
  },
  {
   "cell_type": "markdown",
   "metadata": {},
   "source": [
    "## Solar cell recombination and J-V curve\n",
    "\n",
    "### Recombination rate\n",
    "\n",
    "In the best possible case, the only cause of electron-hole-pair recombination is radiative recombination. Radiative recombination occurs when an electron and hole collide, so it depends on how many electrons and holes there are, or more specifically it depends\n",
    "on the electron and hole QFLs.\n",
    "\n",
    "### Recombination rate when electron QFL = hole QFL (\"QFL\" is \"Quasi-Fermi Level\")\n",
    "\n",
    "This is the case where electron QFL = hole QFL throughout the semiconductor. An example is the solar cell at zero bias in the dark. Then it’s in thermal equilibrium and its radiation can be calculated by the blackbody formula – more specifically, assuming it’s a perfect blackbody above the bandgap and white-body below the bandgap. We also assume isotropic radiation from the top surface, and a mirror on the bottom surface.\n",
    "\n",
    "Let RR0 be the \"Radiative Recombination rate at 0 QFL splitting\", (per solar-cell area). By the blackbody formula:\n",
    "$$\\text{RR0} = \\frac{2\\pi}{c^2 h^3} \\int_{E_{gap}}^{\\infty} \\frac{E^2 dE}{\\exp(E/(k_B T_{cell})) - 1}$$"
   ]
  },
  {
   "cell_type": "code",
   "execution_count": 17,
   "metadata": {
    "collapsed": true
   },
   "outputs": [],
   "source": [
    "def RR0(Egap):\n",
    "    integrand = lambda E : E**2 / (exp(E / (nu.kB * Tcell)) - 1)\n",
    "    integral = scipy.integrate.quad(integrand, Egap, E_max, full_output=1)[0]\n",
    "    return ((2 * pi) / (nu.c0**2 * nu.hPlanck**3)) * integral"
   ]
  },
  {
   "cell_type": "markdown",
   "metadata": {},
   "source": [
    "## Recombination rate when electron QFL and hole QFL are split\n",
    "\n",
    "By kinetic theory, the radiative recombination rate is proportional to the product of electron concentration\n",
    "and hole concentration, $p\\times n$. If you move the electron QFL up towards the conduction band by energy $E$,\n",
    "the electron concentration increases by $\\exp(-E/kT)$. Likewise, if you move the hole QFL down towards the\n",
    "valence band by E, the hole concentration increases by $\\exp(E/k_BT)$. Either way,\n",
    "$p\\times n \\propto \\exp(E/k_BT)$, where $E$ is the QFL energy splitting.\n",
    "\n",
    "In the best possible case, the QFL splitting is equal to the external voltage (in reality, it may be larger\n",
    "than the external voltage). Therefore, the lowest possible radiative recombaniton rate is:\n",
    "\n",
    "$$\\text{Recomb rate} = e \\text{RR0} \\exp(e V / k_B T_{cell}),$$\n",
    "\n",
    "where $V$ is the external voltage.\n",
    "\n",
    "<p style=\"font-size:80%\">Note for pedants: I’m using the expression for radiative recombination $\\frac{2\\pi}{c^2 h^3} \\exp(eV/k_B T_{cell})\\int_{E_{gap}}^\\infty \\frac{E^2 dE}{\\exp(E/k_B T_{cell})-1}.$ This isn't quite right: A more accurate expression is: $\\frac{2\\pi}{c^2 h^3} \\int_{E_{gap}}^\\infty \\frac{E^2 dE}{\\exp((E-eV)/k_B T_{cell})-1}.$ The difference is negligible except for tiny tiny bandgaps (less than 200meV). For explanation see <a href=\"http://dx.doi.org/10.1109/T-ED.1980.19950\">link</a> or <a href=\"http://dx.doi.org/10.1007/BF00901283\">link</a>. (Thanks Ze’ev!)</p>\n",
    "\n",
    "## J-V curve\n",
    "The current is from the electron-hole pairs that are created but which don’t recombine. In the best case, all the solar photons possible are absorbed, while none recombine except radiatively. This gives:\n",
    "\n",
    "$$J = e (\\text{SolarPhotonsAboveGap} - \\text{RR0} (\\exp(e V / k_B T_{cell}) - 1 ))$$\n",
    "\n",
    "where $J$ is the current per unit area, and $V$ is the forward bias on the junction. The \"-1\" on the right accounts for spontaneous\n",
    "generation of e-h pairs through thermal fluctuations at 300K. I will leave out the \"-1\" below because\n",
    "$\\text{RR0} \\ll \\text{SolarPhotonsAboveGap}$, at least in the range of bandgaps that I'm plotting."
   ]
  },
  {
   "cell_type": "code",
   "execution_count": 18,
   "metadata": {
    "collapsed": true
   },
   "outputs": [],
   "source": [
    "def current_density(V, Egap):\n",
    "    return nu.e * (solar_photons_above_gap(Egap) - RR0(Egap) * exp(nu.e * V / (nu.kB * Tcell)))"
   ]
  },
  {
   "cell_type": "markdown",
   "metadata": {},
   "source": [
    "## Open-circuit voltage, short-circuit current"
   ]
  },
  {
   "cell_type": "code",
   "execution_count": 19,
   "metadata": {
    "collapsed": true
   },
   "outputs": [],
   "source": [
    "def JSC(Egap):\n",
    "    return current_density(0, Egap)\n",
    "def VOC(Egap):\n",
    "    return (nu.kB * Tcell / nu.e) * log(solar_photons_above_gap(Egap) / RR0(Egap))"
   ]
  },
  {
   "cell_type": "markdown",
   "metadata": {},
   "source": [
    "**Example:** An ideal 1.1eV-bandgap solar cell has a short-circuit current of 44 mA/cm$^2$, and an open-circuit voltage of 0.86V."
   ]
  },
  {
   "cell_type": "code",
   "execution_count": 20,
   "metadata": {
    "collapsed": false
   },
   "outputs": [
    {
     "name": "stdout",
     "output_type": "stream",
     "text": [
      "44.2508071507\n",
      "0.857764576402\n"
     ]
    }
   ],
   "source": [
    "print(JSC(1.1 * nu.eV) / (nu.mA / nu.cm**2))\n",
    "print(VOC(1.1 * nu.eV) / nu.V)"
   ]
  },
  {
   "cell_type": "markdown",
   "metadata": {},
   "source": [
    "**Plot:**"
   ]
  },
  {
   "cell_type": "code",
   "execution_count": 21,
   "metadata": {
    "collapsed": false
   },
   "outputs": [
    {
     "data": {
      "image/png": "[encoded data removed]",
      "text/plain": [
       "<matplotlib.figure.Figure at 0x7f0c424e5710>"
      ]
     },
     "metadata": {},
     "output_type": "display_data"
    }
   ],
   "source": [
    "Egap_list = numpy.linspace(0.4 * nu.eV, 3 * nu.eV, num=100)\n",
    "JSC_list = numpy.array([JSC(E) for E in Egap_list])\n",
    "plot(Egap_list / nu.eV , JSC_list / (nu.mA / nu.cm**2))\n",
    "xlabel(\"Bandgap energy (eV)\")\n",
    "ylabel(\"Ideal short-circuit current (mA/cm$^2$)\")\n",
    "title(\"Ideal short-circuit current as a function of bandgap\")\n",
    "xlim(0.4, 3)\n",
    "ylim(0,70);"
   ]
  },
  {
   "cell_type": "code",
   "execution_count": 22,
   "metadata": {
    "collapsed": false
   },
   "outputs": [
    {
     "data": {
      "image/png": "[encoded data removed]",
      "text/plain": [
       "<matplotlib.figure.Figure at 0x7f0c424e5f98>"
      ]
     },
     "metadata": {},
     "output_type": "display_data"
    }
   ],
   "source": [
    "Egap_list = numpy.linspace(0.4 * nu.eV, 3 * nu.eV, num=20)\n",
    "VOC_list = numpy.array([VOC(E) for E in Egap_list])\n",
    "plot(Egap_list / nu.eV , VOC_list / nu.V,\n",
    "     numpy.linspace(0,3) , numpy.linspace(0,3), '--')\n",
    "xlabel(\"Bandgap energy (eV)\")\n",
    "ylabel(\"Ideal open-circuit voltage (V)\")\n",
    "title(\"Ideal open-circuit voltage as a function of bandgap\\n(dashed is bandgap)\")\n",
    "xlim(0.4,3);"
   ]
  },
  {
   "cell_type": "markdown",
   "metadata": {},
   "source": [
    "## Ideal bandgap and maximum efficiency\n",
    "\n",
    "Given what we’ve already done, it’s now simple to calculate the ideal bandgap and efficiency, by numerically maximizing the product JV for each bandgap. The \"maximum power point\" (MPP) is the point on the JV curve at which this maximum occurs, the maximum power is the power generated at the MPP, and the efficiency is the power divided by the solar constant (i.e. incoming light power). \n"
   ]
  },
  {
   "cell_type": "code",
   "execution_count": 23,
   "metadata": {
    "collapsed": false
   },
   "outputs": [],
   "source": [
    "# SciPy only comes with minimization, not maximization. Let's fix that...\n",
    "from scipy.optimize import fmin\n",
    "\n",
    "def fmax(func_to_maximize, initial_guess=0):\n",
    "    \"\"\"return the x that maximizes func_to_maximize(x)\"\"\"\n",
    "    func_to_minimize = lambda x : -func_to_maximize(x)\n",
    "    return fmin(func_to_minimize, initial_guess, disp=False)[0]\n",
    "\n",
    "def V_mpp(Egap):\n",
    "    \"\"\" voltage at max power point \"\"\"\n",
    "    return fmax(lambda V : V * current_density(V, Egap))\n",
    "\n",
    "def J_mpp(Egap):\n",
    "    \"\"\" current at max power point \"\"\"\n",
    "    return current_density(V_mpp(Egap), Egap)\n",
    "\n",
    "def max_power(Egap):\n",
    "    V = V_mpp(Egap)\n",
    "    return V * current_density(V, Egap)\n",
    "\n",
    "def max_efficiency(Egap):\n",
    "    return max_power(Egap) / solar_constant"
   ]
  },
  {
   "cell_type": "markdown",
   "metadata": {},
   "source": [
    "**Example:** An ideal 1.1eV-bandgap solar cell has an efficiency of 32.9%."
   ]
  },
  {
   "cell_type": "code",
   "execution_count": 24,
   "metadata": {
    "collapsed": false
   },
   "outputs": [
    {
     "data": {
      "text/plain": [
       "0.32932950569161823"
      ]
     },
     "execution_count": 24,
     "metadata": {},
     "output_type": "execute_result"
    }
   ],
   "source": [
    "max_efficiency(1.1 * nu.eV)"
   ]
  },
  {
   "cell_type": "markdown",
   "metadata": {},
   "source": [
    "**Plot:** The famous SQ efficiency limit!\n"
   ]
  },
  {
   "cell_type": "code",
   "execution_count": 25,
   "metadata": {
    "collapsed": false
   },
   "outputs": [
    {
     "data": {
      "image/png": "[encoded data removed]",
      "text/plain": [
       "<matplotlib.figure.Figure at 0x7f0c4012feb8>"
      ]
     },
     "metadata": {},
     "output_type": "display_data"
    }
   ],
   "source": [
    "Egap_list = numpy.linspace(0.4 * nu.eV, 3 * nu.eV, num=100)\n",
    "eff_list = numpy.array([max_efficiency(E) for E in Egap_list])\n",
    "plot(Egap_list / nu.eV , 100 * eff_list)\n",
    "xlabel(\"Bandgap energy (eV)\")\n",
    "ylabel(\"Max efficiency (%)\")\n",
    "title(\"SQ efficiency limit as a function of bandgap\")\n",
    "xlim(0.4, 3)\n",
    "ylim(0,35);"
   ]
  },
  {
   "cell_type": "markdown",
   "metadata": {},
   "source": [
    "### Fill factor"
   ]
  },
  {
   "cell_type": "code",
   "execution_count": 26,
   "metadata": {
    "collapsed": false
   },
   "outputs": [],
   "source": [
    "def fill_factor(Egap):\n",
    "    return max_power(Egap) / (JSC(Egap) * VOC(Egap))"
   ]
  },
  {
   "cell_type": "markdown",
   "metadata": {},
   "source": [
    "**Plot:**"
   ]
  },
  {
   "cell_type": "code",
   "execution_count": 27,
   "metadata": {
    "collapsed": false
   },
   "outputs": [
    {
     "data": {
      "image/png": "[encoded data removed]",
      "text/plain": [
       "<matplotlib.figure.Figure at 0x7f0c40225748>"
      ]
     },
     "metadata": {},
     "output_type": "display_data"
    }
   ],
   "source": [
    "Egap_list = numpy.linspace(0.4 * nu.eV, 3 * nu.eV, num=30)\n",
    "FF_list = numpy.array([fill_factor(E) for E in Egap_list])\n",
    "plot(Egap_list / nu.eV , FF_list)\n",
    "xlabel(\"Bandgap energy (eV)\")\n",
    "ylabel(\"Ideal fill factor\")\n",
    "title(\"Ideal fill factor as a function of bandgap\")\n",
    "xlim(0.4, 3)\n",
    "ylim(0,1);"
   ]
  },
  {
   "cell_type": "markdown",
   "metadata": {},
   "source": [
    "# Quantifying losses\n",
    "\n",
    "We split the incoming light power into five parts:\n",
    "\n",
    "* Power converted into useful electricity;\n",
    "* Power of below-bandgap photons, which is wasted power because these photons are not absorbed;\n",
    "* Excess photon energy beyond the bandgap, which is wasted because the electron and hole just immediately relax to the band edges. For example, for a 1eV-bandgap semiconductor, a 3eV photon creates the same electron-hole pair as a 1.01eV photon. All the 2eV of extra energy carried by a 3eV photon in that case is wasted.\n",
    "* Power lost due to electron-hole\n",
    "recombination at the max-power-point,\n",
    "which is wasted as heat;\n",
    "* Power lost because the voltage of the cell at the max-power-point is less than the bandgap.\n",
    "\n",
    "To say the same thing using equations:\n",
    "\n",
    "$(\\text{Light power in}) = V_{MPP} \\times I_{MPP}$<br>\n",
    "$ \\qquad + (\\text{Power of below-bandgap photons})$<br>\n",
    "$ \\qquad + (\\text{Power of above-bandgap photons} - \\text{Number of above-bandgap photons} \\times \\text{Bandgap energy})$<br>\n",
    "$ \\qquad + ((\\text{Number of above-bandgap photons}) - I_{MPP} / e) \\times (\\text{Bandgap energy})$<br>\n",
    "$ \\qquad + I_{MPP} \\times (\\text{Bandgap voltage} - V_{MPP})$<br>\n",
    "\n",
    "I’ll write everything as a fraction of the incident light power."
   ]
  },
  {
   "cell_type": "code",
   "execution_count": 28,
   "metadata": {
    "collapsed": false
   },
   "outputs": [],
   "source": [
    "def useful_electricity(Egap):\n",
    "    return max_efficiency(Egap)\n",
    "\n",
    "def below_gap_energy(Egap):\n",
    "    integrand = lambda E : E * SPhotonsPerTEA(E)\n",
    "    return scipy.integrate.quad(integrand, E_min, Egap, full_output=1)[0] / solar_constant\n",
    "\n",
    "def excess_beyond_gap(Egap):\n",
    "    integrand = lambda E : (E - Egap) * SPhotonsPerTEA(E)\n",
    "    return scipy.integrate.quad(integrand, Egap, E_max, full_output=1)[0] / solar_constant\n",
    "\n",
    "def mpp_recombination(Egap):\n",
    "    return (solar_photons_above_gap(Egap) - J_mpp(Egap) / nu.e) * Egap / solar_constant\n",
    "\n",
    "def mpp_voltage_is_less_than_gap(Egap):\n",
    "    return J_mpp(Egap) * (Egap / nu.e - V_mpp(Egap)) / solar_constant"
   ]
  },
  {
   "cell_type": "markdown",
   "metadata": {},
   "source": [
    "**Example:** Accounting for the energy and losses of an ideal 1.1eV solar cell. Everything adds up to 100% (within numerical accuracy) as expected."
   ]
  },
  {
   "cell_type": "code",
   "execution_count": 29,
   "metadata": {
    "collapsed": false
   },
   "outputs": [
    {
     "name": "stdout",
     "output_type": "stream",
     "text": [
      "(0.32932950569161823, 0.18753690430401876, 0.3261117679048304, 0.015803466363941275, 0.14165863398411627)\n"
     ]
    }
   ],
   "source": [
    "breakdown = (useful_electricity(1.1 * nu.eV),\n",
    "             below_gap_energy(1.1 * nu.eV),\n",
    "             excess_beyond_gap(1.1 * nu.eV),\n",
    "             mpp_recombination(1.1 * nu.eV),\n",
    "             mpp_voltage_is_less_than_gap(1.1 * nu.eV))\n",
    "print(breakdown)"
   ]
  },
  {
   "cell_type": "code",
   "execution_count": 30,
   "metadata": {
    "collapsed": false
   },
   "outputs": [
    {
     "data": {
      "text/plain": [
       "1.0004402782485249"
      ]
     },
     "execution_count": 30,
     "metadata": {},
     "output_type": "execute_result"
    }
   ],
   "source": [
    "sum(breakdown)"
   ]
  },
  {
   "cell_type": "markdown",
   "metadata": {},
   "source": [
    "**Plot**"
   ]
  },
  {
   "cell_type": "code",
   "execution_count": 31,
   "metadata": {
    "collapsed": false
   },
   "outputs": [
    {
     "data": {
      "image/png": "[encoded data removed]",
      "text/plain": [
       "<matplotlib.figure.Figure at 0x7f0c402640b8>"
      ]
     },
     "metadata": {},
     "output_type": "display_data"
    }
   ],
   "source": [
    "Egap_list = linspace(0.4 * nu.eV, 3 * nu.eV, num=100)\n",
    "loss_list = [[useful_electricity(Egap), below_gap_energy(Egap), excess_beyond_gap(Egap),\n",
    "                      mpp_recombination(Egap), mpp_voltage_is_less_than_gap(Egap)] for Egap in Egap_list]\n",
    "loss_list = array(loss_list)\n",
    "# cumulative sums to stack the contributions on top of each other\n",
    "loss_list = cumsum(loss_list,axis=1)\n",
    "\n",
    "fig = figure()\n",
    "ax1 = fig.add_subplot(111)\n",
    "ax1.fill_between(Egap_list / nu.eV,              0, loss_list[:,0], facecolor=\"k\")\n",
    "ax1.fill_between(Egap_list / nu.eV, loss_list[:,0], loss_list[:,1], facecolor=\"m\")\n",
    "ax1.fill_between(Egap_list / nu.eV, loss_list[:,1], loss_list[:,2], facecolor=\"g\")\n",
    "ax1.fill_between(Egap_list / nu.eV, loss_list[:,2], loss_list[:,3], facecolor=\"b\")\n",
    "ax1.fill_between(Egap_list / nu.eV, loss_list[:,3],              1, facecolor=\"0.75\")\n",
    "title('POWER GOES TO...\\n'\n",
    "          'Useful electricity (black);\\n'\n",
    "          'Below-gap photons (magenta);\\n'\n",
    "          'e-h relaxation to the band edges (green);\\n'\n",
    "          'Current loss from radiative recombination (blue)\\n'\n",
    "          'Voltage is less than bandgap (gray)')\n",
    "xlabel('Bandgap (eV)')\n",
    "ylabel('Fraction of incident light power')\n",
    "xlim(0.4, 3)\n",
    "ylim(0,1);"
   ]
  },
  {
   "cell_type": "markdown",
   "metadata": {},
   "source": [
    "# Partial list of \"loopholes\" to exceed the SQ limit\n",
    "\n",
    "Exceeding the SQ limit is a sort of obsession of solar cell physicists. The standard reference book on this subject is *Third Generation Photovoltaics* by Martin Green. Here is a partial list.\n",
    "\n",
    "## Tandem solar cells\n",
    "\n",
    "Tandem solar cells can and do exceed the SQ limit. In the SQ model, it is assumed that photons with energy below the bandgap are not absorbed at all, and with energy far above the bandgap are absorbed but all that excess energy is wasted. A tandem solar cell allows high-energy photons to excite a large-bandgap solar cell, and lower-energy photons to excite a smaller-bandgap solar cell. Usually 2 or 3 or 4 solar cells are used. Tandem solar cells are widely used and available. They are used commercially to make the very highest-efficiency most-expensive solar cells. They are also used commercially in some lower-end solar cells, such as amorphous silicon.\n",
    "\n",
    "In the above derivation, where exactly is the loophole that tandem cells take advantage of? It is the step where I wrote \"In the best possible case, the QFL splitting is equal to the external voltage (in reality, it may be larger than the external voltage).\" Normally, this is true because, to get a net flow of photogenerated electrons into the cathode lead, the electron QFL has to tilt downward towards the cathode lead, and likewise to get a net flow of photogenerated holes into the anode lead, the hole QFL has to tilt upwards towards the cathode lead. However, in a tandem cell, the QFLs repeatedly split apart and come back together, such that the external voltage can be much greater than the QFL splitting at any given point.\n",
    "\n",
    "## Light concentration\n",
    "\n",
    "The sun is a small point in the sky, so sunlight can be focused to very high concentrations (in theory as much as 50,000X!) Higher concentrations generally lead to higher efficiencies, assuming the solar panel does not heat up too much. In other words, if you focus sunlight to make it 100X more intense on a solar cell, the power can go up by *more* than 100X in the SQ model. Although light concentration is commonly used in practice for solar cells, the possible modest efficiency gain is *not* the *primary* reason that concentrated solar cells are used, in my understanding. More important is that small solar cells with huge mirrors/lenses can sometimes be cheaper than huge solar cells with no mirrors/lenses.\n",
    "\n",
    "## Anisotropic radiation\n",
    "\n",
    "If you engineer a solar cell to only radiate in one direction, its theoretical efficiency increases. (The direction it radiates has to point towards the sun, otherwise light cannot get in.) The theoretical increase here is the same as if you were doing light-concentration. Unfortunately, in practice, it is not as helpful as you might hope, because it reduces radiative recombination but does not reduce nonradiative recombination.\n",
    "\n",
    "## Hot electrons\n",
    "\n",
    "Electrons are usually excited to an energy far above the conduction-band-minimum, and holes far below the valence-band-maximum. Usually they relax to the band edges very quickly. If you can stop that relaxation, you can theoretically exceed the SQ limit by a lot. It seems to be very difficult in practice, and so far there is not even a proof-of-principle laboratory demonstration of a complete hot-electron device.\n",
    "\n",
    "## Multiple-exciton generation\n",
    "\n",
    "In the SQ calculation, it is assumed that each photon above the bandgap creates just one electron-hole pair. In theory, a photon at twice the bandgap could produce two e-h pairs, at 3X the bandgap could produce 3, etc. This is called \"Multiple-exciton generation\" (MEG). There has been a lot of work on this in recent years, particularly in quantum dots, and for many years there was controversy over whether MEG had been observed. The \"smoking gun\" for MEG–i.e., unarguable proof of its occurrance–is a device with \"external quantum efficiency\" above 100% (i.e., more than one electron flows through the ammeter, for each photon coming into the device). After a lot of work, that milestone was finally reached in December 2011: [link](http://dx.doi.org/10.1126/science.1209845). So now we know for sure that MEG is possible in some devices. Of course, we are still a long way away from seeing a commercial device that takes advantage of MEG.\n",
    "\n",
    "## Intermediate-band solar cell\n",
    "\n",
    "In the SQ calculation, it is assumed that photons below the bandgap are wasted. Instead, it is possible to have an energy level in the gap, and excite electrons from the valence to conduction band in two steps. There have been a few laboratory proof-of-principle demonstrations of the concept: [link 1](http://dx.doi.org/10.1103/PhysRevLett.106.028701), [link 2](http://dx.doi.org/10.1063/1.3166863), [link 3](http://dx.doi.org/10.1103/PhysRevLett.97.247701). So far there is no demonstration that intermediate-band solar cells can have high efficiencies in practice.\n",
    "\n",
    "## Chemical upconversion\n",
    "\n",
    "In the SQ calculation, it is assumed that photons below the bandgap are wasted. Instead, it is possible to incorporate an upconversion chemical that absorbs two low-energy photons and emits one high-energy photon. Such chemicals exist, and upconverting solar cells have been demonstrated, but so far these have not been incorporated into commercial solar cells, I think primarily because the chemicals are expensive rare-earth compounds, and they can only upconvert within a narrow wavelength range. (But I’m not sure.)\n",
    "\n",
    "## Chemical downconversion\n",
    "\n",
    "In the SQ calculation, it is assumed that each photon above the bandgap creates just one electron-hole pair. In theory, a photon at twice the bandgap could produce two e-h pairs, at 3X the bandgap could produce 3, etc. The idea of \"downconversion\" is to incorporate a downconversion chemical that absorbs one very-high-energy photon and re-radiates two lower-energy photons (lower-energy but still above the bandgap) that add up to the energy of the original photon. The system is only worthwhile if each incoming high-energy photon is converted to *more than 1 on average* outgoing above-bandgap photon. This requires high downconversion efficiency and very low loss, and this benchmark that has not yet been reached (as far as I know).\n",
    "\n",
    "## Non-blackbody solar cell and \"photon recycling\"\n",
    "\n",
    "Say you have a material with too small a bandgap, like 0.5eV, but you want it to use it in a solar cell anyway. You are at a disadvantage because the Shockley-Queisser efficiency limit for 0.5eV bandgap is much lower than the limit for, say, 1.2eV bandgap. However, what you can do is put your solar cell behind a dichroic mirror or coating which reflects all light with frequency below 1.2eV and transmits all light with frequency above 1.2eV. If you do this, the 0.5eV-bandgap material behaves as if it had a 1.2eV bandgap, and in particular it has the same theoretical efficiency limit as if it had a 1.2eV bandgap. What’s happening is that most of the photons emitted in electron-hole recombination events in the semiconductor are reflected right back into the semiconductor, where they are reabsorbed into a new electron-hole pair. Therefore you can get a huge density of electrons and holes with very little net radiative recombination. These electrons and holes fill up the conduction and valence bands until the \"Dynamic Burstein-Moss\"-shifted bandgap is close to 1.2eV. Another way to look at it is, you have made the material into a whitebody below 1.2eV and a blackbody above 1.2eV, which is the same as a 1.2eV bandgap material. See [link](http://dx.doi.org/10.1063/1.3682101) for more details.\n",
    "\n",
    "More generally, when a radiative recombination photon is re-absorbed to make a new electron-hole pair, as in the previous paragraph, it’s sometimes called \"Photon recycling\". Photon recycling is important for modeling solar cells, for example <a href=\"http://dx.doi.org/10.1016/0927-0248(93)90142-P\">link</a>. However, photon recycling cannot on its own make a solar cell overcome the overall Shockley-Queisser limit of ~34%. (An exception is the anisotropic radiation design, see above.) Moreover, photon recycling reduces net radiative recombination, but does not reduce nonradiative recombination, so it’s not as helpful as you might otherwise hope."
   ]
  },
  {
   "cell_type": "code",
   "execution_count": null,
   "metadata": {
    "collapsed": true
   },
   "outputs": [],
   "source": []
  }
 ],
 "metadata": {
  "kernelspec": {
   "display_name": "Python 3",
   "language": "python",
   "name": "python3"
  },
  "language_info": {
   "codemirror_mode": {
    "name": "ipython",
    "version": 3
   },
   "file_extension": ".py",
   "mimetype": "text/x-python",
   "name": "python",
   "nbconvert_exporter": "python",
   "pygments_lexer": "ipython3",
   "version": "3.5.1+"
  }
 },
 "nbformat": 4,
 "nbformat_minor": 0
}

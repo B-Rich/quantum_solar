{
 "cells": [
  {
   "cell_type": "markdown",
   "metadata": {},
   "source": [
    "# Límite de Shockley–Queisser\n",
    "\n",
    "\n",
    "\n",
    "## Primero librerias"
   ]
  },
  {
   "cell_type": "code",
   "execution_count": 2,
   "metadata": {
    "collapsed": false
   },
   "outputs": [],
   "source": [
    "import numpy as np # modulo de computo numerico\n",
    "import matplotlib.pyplot as plt # modulo de graficas\n",
    "import pandas as pd # modulo de datos\n",
    "import seaborn as sns\n",
    "import  scipy.interpolate, scipy.integrate, wget, tarfile\n",
    "# esta linea hace que las graficas salgan en el notebook\n",
    "%matplotlib inline"
   ]
  },
  {
   "cell_type": "markdown",
   "metadata": {},
   "source": [
    "## Graficas chidas!"
   ]
  },
  {
   "cell_type": "code",
   "execution_count": 3,
   "metadata": {
    "collapsed": true
   },
   "outputs": [],
   "source": [
    "def awesome_settings():\n",
    "    # awesome plot options\n",
    "    sns.set_style(\"white\")\n",
    "    sns.set_style(\"ticks\")\n",
    "    sns.set_context(\"paper\", font_scale=2)\n",
    "    sns.set_palette(sns.color_palette('bright'))\n",
    "    # image stuff\n",
    "    plt.rcParams['figure.figsize'] = (12.0, 6.0)\n",
    "    plt.rcParams['savefig.dpi'] = 60\n",
    "    plt.rcParams['lines.linewidth'] = 3\n",
    "    return\n",
    "\n",
    "%config InlineBackend.figure_format='retina'\n",
    "awesome_settings()"
   ]
  },
  {
   "cell_type": "markdown",
   "metadata": {
    "collapsed": false
   },
   "source": [
    "# 1  A graficar el Hermoso Espectro Solar\n",
    "\n",
    "\n",
    "\n",
    "## Primero constantes numericas\n",
    "\n",
    "Utilizaremos un modulo que manejara unidades numericas y fisicas:"
   ]
  },
  {
   "cell_type": "code",
   "execution_count": 1,
   "metadata": {
    "collapsed": false
   },
   "outputs": [],
   "source": [
    "import numericalunits as nu"
   ]
  },
  {
   "cell_type": "markdown",
   "metadata": {},
   "source": [
    "Para usarlo convertimos numeros a unidades, por ejemplo:\n",
    "\n",
    "`x = 5 * nu.cm` significa \"x es igual a 5 centimetros\".\n",
    "\n",
    "si quieres sacar el valor numerico de x, podemos dividir por las unidades\n",
    "\n",
    "`y = x / nu.mm `, en este caso tenemos el valor numerico en milimetros.\n",
    "\n",
    "### Pruebalo!"
   ]
  },
  {
   "cell_type": "code",
   "execution_count": 6,
   "metadata": {
    "collapsed": false
   },
   "outputs": [
    {
     "data": {
      "text/plain": [
       "0.2613582760745648"
      ]
     },
     "execution_count": 6,
     "metadata": {},
     "output_type": "execute_result"
    }
   ],
   "source": []
  },
  {
   "cell_type": "markdown",
   "metadata": {},
   "source": [
    "Definimos la Celda solar cualquiera a una temperatura de 300 kelvin:"
   ]
  },
  {
   "cell_type": "code",
   "execution_count": 7,
   "metadata": {
    "collapsed": true
   },
   "outputs": [],
   "source": [
    "tCell = 300 * nu.K"
   ]
  },
  {
   "cell_type": "markdown",
   "metadata": {},
   "source": [
    "## Bajar datos\n",
    "\n",
    "Aveces los datos que queremos se encuentran en el internet.\n",
    "\n",
    "Aqui usaremos datos del NREL (National Renewable Energy Laboratory): [http://rredc.nrel.gov/solar/spectra/am1.5/](http://rredc.nrel.gov/solar/spectra/am1.5/)  \n",
    "del espectro solar  (AM1.5G) con intensity (1000 W/m2). \n",
    "\n",
    "Primero lo bajamos y lo descomprimimos:"
   ]
  },
  {
   "cell_type": "code",
   "execution_count": null,
   "metadata": {
    "collapsed": false
   },
   "outputs": [],
   "source": [
    "data_url = 'http://rredc.nrel.gov/solar/spectra/am1.5/ASTMG173/compressed/ASTMG173.csv.tar'\n",
    "a_file = wget.download(data_url)\n",
    "download_as_tarfile_object = tarfile.open(fileobj=a_file)\n",
    "csv_file = download_as_tarfile_object.extractfile('ASTMG173.csv')"
   ]
  },
  {
   "cell_type": "markdown",
   "metadata": {},
   "source": [
    "## Que tamanio tienen los datos?"
   ]
  },
  {
   "cell_type": "code",
   "execution_count": 9,
   "metadata": {
    "collapsed": false
   },
   "outputs": [
    {
     "data": {
      "text/plain": [
       "(2002, 4)"
      ]
     },
     "execution_count": 9,
     "metadata": {},
     "output_type": "execute_result"
    }
   ],
   "source": [
    "downloaded_array = np.genfromtxt('ASTMG173.csv', delimiter=\",\", skip_header=2)\n",
    "downloaded_array.shape"
   ]
  },
  {
   "cell_type": "markdown",
   "metadata": {},
   "source": [
    "## Manipular datos\n",
    "La columna 0 es la longitud de onda y la 2 es los datos AM1.5G"
   ]
  },
  {
   "cell_type": "code",
   "execution_count": 5,
   "metadata": {
    "collapsed": false
   },
   "outputs": [
    {
     "name": "stdout",
     "output_type": "stream",
     "text": [
      "[[  2.80000000e+02   4.73090000e-23]\n",
      " [  2.80500000e+02   1.23070000e-21]\n",
      " [  2.81000000e+02   5.68950000e-21]\n",
      " ..., \n",
      " [  3.99000000e+03   7.37230000e-03]\n",
      " [  3.99500000e+03   7.21000000e-03]\n",
      " [  4.00000000e+03   7.10430000e-03]]\n"
     ]
    }
   ],
   "source": [
    "# Wavelength is in column 0, AM1.5G data is column 2\n",
    "AM15 = downloaded_array[:,[0,2]]\n",
    "# The first line should be 280.0 , 4.7309E-23\n",
    "# The last line should be 4000.0, 7.1043E-03\n",
    "print(AM15)"
   ]
  },
  {
   "cell_type": "markdown",
   "metadata": {
    "collapsed": true
   },
   "source": [
    "## Vamos a dar unidades a cada columna"
   ]
  },
  {
   "cell_type": "code",
   "execution_count": 6,
   "metadata": {
    "collapsed": true
   },
   "outputs": [],
   "source": [
    "AM15[:,0] *= nu.nm\n",
    "AM15[:,1] *= nu.W * nu.m**-2 * nu.nm**-1"
   ]
  },
  {
   "cell_type": "markdown",
   "metadata": {},
   "source": [
    "## Limites de los datos\n",
    "\n",
    "Para los limites de numeros onda ($\\lambda$), podemos usar **np.min** y **np.max**.\n",
    "\n",
    "Para la energia usaremos la formula \n",
    "$$\n",
    "E = \\frac{\\hbar c_0}{\\lambda}\n",
    "$$"
   ]
  },
  {
   "cell_type": "code",
   "execution_count": null,
   "metadata": {
    "collapsed": true
   },
   "outputs": [],
   "source": [
    "wavelength_min = \n",
    "wavelength_max = \n",
    "E_min = nu.hPlanck * nu.c0 \n",
    "E_max = nu.hPlanck * nu.c0 "
   ]
  },
  {
   "cell_type": "markdown",
   "metadata": {},
   "source": [
    "## Creamos una funcion, interpolando valores intermedios"
   ]
  },
  {
   "cell_type": "code",
   "execution_count": null,
   "metadata": {
    "collapsed": true
   },
   "outputs": [],
   "source": [
    "AM15interp = scipy.interpolate.interp1d(AM15[:,0], AM15[:,1])"
   ]
  },
  {
   "cell_type": "markdown",
   "metadata": {
    "collapsed": true
   },
   "source": [
    "## Conseguimos los valores x, y\n",
    "\n",
    "Pista: \n",
    "\n",
    "* para **x** podemos usar linspace entre el valor minimo y maximo.\n",
    "* para **y** creamos una lista y llenamos los datos de la funcion con x"
   ]
  },
  {
   "cell_type": "code",
   "execution_count": null,
   "metadata": {
    "collapsed": true
   },
   "outputs": [],
   "source": []
  },
  {
   "cell_type": "markdown",
   "metadata": {},
   "source": [
    "## Tiempo de Graficar\n",
    "\n",
    "### Actividad: Grafica el spectro solar\n",
    "\n",
    "**Ojo:** No se te olvide agregar titulos e informacion a la grafica"
   ]
  },
  {
   "cell_type": "code",
   "execution_count": null,
   "metadata": {
    "collapsed": true
   },
   "outputs": [],
   "source": []
  }
 ],
 "metadata": {
  "kernelspec": {
   "display_name": "Python 2",
   "language": "python",
   "name": "python2"
  },
  "language_info": {
   "codemirror_mode": {
    "name": "ipython",
    "version": 2
   },
   "file_extension": ".py",
   "mimetype": "text/x-python",
   "name": "python",
   "nbconvert_exporter": "python",
   "pygments_lexer": "ipython2",
   "version": "2.7.12"
  },
  "latex_envs": {
   "bibliofile": "biblio.bib",
   "cite_by": "apalike",
   "current_citInitial": 1,
   "eqLabelWithNumbers": true,
   "eqNumInitial": 0
  }
 },
 "nbformat": 4,
 "nbformat_minor": 0
}
